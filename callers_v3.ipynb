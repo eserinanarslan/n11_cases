{
 "cells": [
  {
   "cell_type": "code",
   "execution_count": 1,
   "metadata": {
    "executionInfo": {
     "elapsed": 874,
     "status": "ok",
     "timestamp": 1604153234492,
     "user": {
      "displayName": "Eser İnan Arslan",
      "photoUrl": "https://lh3.googleusercontent.com/a-/AOh14Ggz536p806W0W9-wxWFfPdVV303PuNNPAhu9S1UjA=s64",
      "userId": "01966049699378036829"
     },
     "user_tz": -180
    },
    "id": "hx0btXs427wA"
   },
   "outputs": [
    {
     "name": "stderr",
     "output_type": "stream",
     "text": [
      "/Library/Frameworks/Python.framework/Versions/3.6/lib/python3.6/site-packages/sklearn/utils/deprecation.py:143: FutureWarning: The sklearn.metrics.scorer module is  deprecated in version 0.22 and will be removed in version 0.24. The corresponding classes / functions should instead be imported from sklearn.metrics. Anything that cannot be imported from sklearn.metrics is now part of the private API.\n",
      "  warnings.warn(message, FutureWarning)\n"
     ]
    }
   ],
   "source": [
    "import pandas as pd\n",
    "import numpy as np\n",
    "\n",
    "import matplotlib.pyplot as plt\n",
    "\n",
    "import seaborn as sns\n",
    "import xgboost as xgb\n",
    "\n",
    "from datetime import datetime\n",
    "import itertools\n",
    "from sklearn.cluster import MeanShift, estimate_bandwidth\n",
    "\n",
    "\n",
    "from sklearn.preprocessing import LabelEncoder\n",
    "from sklearn.metrics import mean_squared_error, mean_absolute_error\n",
    "from sklearn.model_selection import cross_val_score, learning_curve, GridSearchCV\n",
    "from sklearn import linear_model\n",
    "from sklearn.model_selection import train_test_split\n",
    "from sklearn.metrics.scorer import make_scorer\n",
    "%matplotlib inline"
   ]
  },
  {
   "cell_type": "code",
   "execution_count": 2,
   "metadata": {
    "executionInfo": {
     "elapsed": 1150,
     "status": "ok",
     "timestamp": 1604153234774,
     "user": {
      "displayName": "Eser İnan Arslan",
      "photoUrl": "https://lh3.googleusercontent.com/a-/AOh14Ggz536p806W0W9-wxWFfPdVV303PuNNPAhu9S1UjA=s64",
      "userId": "01966049699378036829"
     },
     "user_tz": -180
    },
    "id": "n4OXYNwI4qQ8"
   },
   "outputs": [],
   "source": [
    "#Set parameters to see all data\n",
    "pd.set_option('display.max_rows', 150)\n",
    "pd.set_option('display.max_columns', 50)\n",
    "pd.set_option('display.width', 1000)"
   ]
  },
  {
   "cell_type": "code",
   "execution_count": 3,
   "metadata": {
    "colab": {
     "base_uri": "https://localhost:8080/",
     "height": 359
    },
    "executionInfo": {
     "elapsed": 1144,
     "status": "ok",
     "timestamp": 1604153234775,
     "user": {
      "displayName": "Eser İnan Arslan",
      "photoUrl": "https://lh3.googleusercontent.com/a-/AOh14Ggz536p806W0W9-wxWFfPdVV303PuNNPAhu9S1UjA=s64",
      "userId": "01966049699378036829"
     },
     "user_tz": -180
    },
    "id": "TjLO2RgH4tAj",
    "outputId": "b941ed55-8a2b-460f-9bef-8f6009c19faf"
   },
   "outputs": [
    {
     "data": {
      "text/html": [
       "<div>\n",
       "<style scoped>\n",
       "    .dataframe tbody tr th:only-of-type {\n",
       "        vertical-align: middle;\n",
       "    }\n",
       "\n",
       "    .dataframe tbody tr th {\n",
       "        vertical-align: top;\n",
       "    }\n",
       "\n",
       "    .dataframe thead th {\n",
       "        text-align: right;\n",
       "    }\n",
       "</style>\n",
       "<table border=\"1\" class=\"dataframe\">\n",
       "  <thead>\n",
       "    <tr style=\"text-align: right;\">\n",
       "      <th></th>\n",
       "      <th>calls</th>\n",
       "      <th>days_active</th>\n",
       "      <th>isgroup2</th>\n",
       "      <th>age</th>\n",
       "    </tr>\n",
       "  </thead>\n",
       "  <tbody>\n",
       "    <tr>\n",
       "      <td>0</td>\n",
       "      <td>2</td>\n",
       "      <td>32</td>\n",
       "      <td>0</td>\n",
       "      <td>27</td>\n",
       "    </tr>\n",
       "    <tr>\n",
       "      <td>1</td>\n",
       "      <td>4</td>\n",
       "      <td>81</td>\n",
       "      <td>0</td>\n",
       "      <td>32</td>\n",
       "    </tr>\n",
       "    <tr>\n",
       "      <td>2</td>\n",
       "      <td>0</td>\n",
       "      <td>41</td>\n",
       "      <td>0</td>\n",
       "      <td>22</td>\n",
       "    </tr>\n",
       "    <tr>\n",
       "      <td>3</td>\n",
       "      <td>1</td>\n",
       "      <td>36</td>\n",
       "      <td>0</td>\n",
       "      <td>28</td>\n",
       "    </tr>\n",
       "    <tr>\n",
       "      <td>4</td>\n",
       "      <td>0</td>\n",
       "      <td>55</td>\n",
       "      <td>0</td>\n",
       "      <td>31</td>\n",
       "    </tr>\n",
       "    <tr>\n",
       "      <td>219</td>\n",
       "      <td>1</td>\n",
       "      <td>42</td>\n",
       "      <td>1</td>\n",
       "      <td>39</td>\n",
       "    </tr>\n",
       "    <tr>\n",
       "      <td>220</td>\n",
       "      <td>0</td>\n",
       "      <td>38</td>\n",
       "      <td>1</td>\n",
       "      <td>28</td>\n",
       "    </tr>\n",
       "    <tr>\n",
       "      <td>221</td>\n",
       "      <td>2</td>\n",
       "      <td>53</td>\n",
       "      <td>1</td>\n",
       "      <td>26</td>\n",
       "    </tr>\n",
       "    <tr>\n",
       "      <td>222</td>\n",
       "      <td>6</td>\n",
       "      <td>69</td>\n",
       "      <td>1</td>\n",
       "      <td>21</td>\n",
       "    </tr>\n",
       "    <tr>\n",
       "      <td>223</td>\n",
       "      <td>2</td>\n",
       "      <td>28</td>\n",
       "      <td>1</td>\n",
       "      <td>34</td>\n",
       "    </tr>\n",
       "  </tbody>\n",
       "</table>\n",
       "</div>"
      ],
      "text/plain": [
       "     calls  days_active  isgroup2  age\n",
       "0        2           32         0   27\n",
       "1        4           81         0   32\n",
       "2        0           41         0   22\n",
       "3        1           36         0   28\n",
       "4        0           55         0   31\n",
       "219      1           42         1   39\n",
       "220      0           38         1   28\n",
       "221      2           53         1   26\n",
       "222      6           69         1   21\n",
       "223      2           28         1   34"
      ]
     },
     "execution_count": 3,
     "metadata": {},
     "output_type": "execute_result"
    }
   ],
   "source": [
    "# Load Train dataset\n",
    "train = pd.read_csv(\"data/callers.csv\")\n",
    "train.head(5).append(train.tail(5))"
   ]
  },
  {
   "cell_type": "code",
   "execution_count": 4,
   "metadata": {
    "colab": {
     "base_uri": "https://localhost:8080/"
    },
    "executionInfo": {
     "elapsed": 1136,
     "status": "ok",
     "timestamp": 1604153234775,
     "user": {
      "displayName": "Eser İnan Arslan",
      "photoUrl": "https://lh3.googleusercontent.com/a-/AOh14Ggz536p806W0W9-wxWFfPdVV303PuNNPAhu9S1UjA=s64",
      "userId": "01966049699378036829"
     },
     "user_tz": -180
    },
    "id": "4bV_8MhA5ElU",
    "outputId": "b8271daf-e654-4a06-f3b3-078d5dcac11f"
   },
   "outputs": [
    {
     "data": {
      "text/plain": [
       "array([2, 4, 0, 1, 3, 5, 8, 7, 6])"
      ]
     },
     "execution_count": 4,
     "metadata": {},
     "output_type": "execute_result"
    }
   ],
   "source": [
    "train.calls.unique()"
   ]
  },
  {
   "cell_type": "code",
   "execution_count": 5,
   "metadata": {
    "colab": {
     "base_uri": "https://localhost:8080/"
    },
    "executionInfo": {
     "elapsed": 1130,
     "status": "ok",
     "timestamp": 1604153234776,
     "user": {
      "displayName": "Eser İnan Arslan",
      "photoUrl": "https://lh3.googleusercontent.com/a-/AOh14Ggz536p806W0W9-wxWFfPdVV303PuNNPAhu9S1UjA=s64",
      "userId": "01966049699378036829"
     },
     "user_tz": -180
    },
    "id": "dS066FrQ7mCh",
    "outputId": "263bb636-f73b-4fd8-f104-970baf6d4434"
   },
   "outputs": [
    {
     "data": {
      "text/plain": [
       "(8, 0)"
      ]
     },
     "execution_count": 5,
     "metadata": {},
     "output_type": "execute_result"
    }
   ],
   "source": [
    "train.calls.max(), train.calls.min()"
   ]
  },
  {
   "cell_type": "code",
   "execution_count": 6,
   "metadata": {
    "colab": {
     "base_uri": "https://localhost:8080/"
    },
    "executionInfo": {
     "elapsed": 1124,
     "status": "ok",
     "timestamp": 1604153234777,
     "user": {
      "displayName": "Eser İnan Arslan",
      "photoUrl": "https://lh3.googleusercontent.com/a-/AOh14Ggz536p806W0W9-wxWFfPdVV303PuNNPAhu9S1UjA=s64",
      "userId": "01966049699378036829"
     },
     "user_tz": -180
    },
    "id": "vZ71gocn7r4m",
    "outputId": "aa676e35-1ba1-48f6-d363-7b7295ee2f53"
   },
   "outputs": [
    {
     "data": {
      "text/plain": [
       "array([0, 1])"
      ]
     },
     "execution_count": 6,
     "metadata": {},
     "output_type": "execute_result"
    }
   ],
   "source": [
    "train.isgroup2.unique()"
   ]
  },
  {
   "cell_type": "code",
   "execution_count": 7,
   "metadata": {
    "colab": {
     "base_uri": "https://localhost:8080/"
    },
    "executionInfo": {
     "elapsed": 1117,
     "status": "ok",
     "timestamp": 1604153234777,
     "user": {
      "displayName": "Eser İnan Arslan",
      "photoUrl": "https://lh3.googleusercontent.com/a-/AOh14Ggz536p806W0W9-wxWFfPdVV303PuNNPAhu9S1UjA=s64",
      "userId": "01966049699378036829"
     },
     "user_tz": -180
    },
    "id": "_Ebi6bS5TXpy",
    "outputId": "907d7323-76ee-4847-fc77-0017094670cf"
   },
   "outputs": [
    {
     "data": {
      "text/plain": [
       "(19, 30.111607142857142, 43)"
      ]
     },
     "execution_count": 7,
     "metadata": {},
     "output_type": "execute_result"
    }
   ],
   "source": [
    "train.age.min(), train.age.mean(), train.age.max()"
   ]
  },
  {
   "cell_type": "code",
   "execution_count": 8,
   "metadata": {
    "colab": {
     "base_uri": "https://localhost:8080/"
    },
    "executionInfo": {
     "elapsed": 1112,
     "status": "ok",
     "timestamp": 1604153234778,
     "user": {
      "displayName": "Eser İnan Arslan",
      "photoUrl": "https://lh3.googleusercontent.com/a-/AOh14Ggz536p806W0W9-wxWFfPdVV303PuNNPAhu9S1UjA=s64",
      "userId": "01966049699378036829"
     },
     "user_tz": -180
    },
    "id": "KRG4OiNaTXsz",
    "outputId": "135b164a-0a1b-4ac1-ae45-f926c1125c3d"
   },
   "outputs": [
    {
     "data": {
      "text/plain": [
       "(21, 53.611607142857146, 90)"
      ]
     },
     "execution_count": 8,
     "metadata": {},
     "output_type": "execute_result"
    }
   ],
   "source": [
    "train.days_active.min(), train.days_active.mean(), train.days_active.max()"
   ]
  },
  {
   "cell_type": "code",
   "execution_count": 9,
   "metadata": {
    "colab": {
     "base_uri": "https://localhost:8080/"
    },
    "executionInfo": {
     "elapsed": 1106,
     "status": "ok",
     "timestamp": 1604153234778,
     "user": {
      "displayName": "Eser İnan Arslan",
      "photoUrl": "https://lh3.googleusercontent.com/a-/AOh14Ggz536p806W0W9-wxWFfPdVV303PuNNPAhu9S1UjA=s64",
      "userId": "01966049699378036829"
     },
     "user_tz": -180
    },
    "id": "xhiUsOP87_8C",
    "outputId": "1b51cb3b-5991-4366-a0f3-91cdc94d30fa"
   },
   "outputs": [
    {
     "data": {
      "text/plain": [
       "24"
      ]
     },
     "execution_count": 9,
     "metadata": {},
     "output_type": "execute_result"
    }
   ],
   "source": [
    "len(train[train.isgroup2==1])"
   ]
  },
  {
   "cell_type": "code",
   "execution_count": 10,
   "metadata": {},
   "outputs": [
    {
     "data": {
      "text/html": [
       "<div>\n",
       "<style scoped>\n",
       "    .dataframe tbody tr th:only-of-type {\n",
       "        vertical-align: middle;\n",
       "    }\n",
       "\n",
       "    .dataframe tbody tr th {\n",
       "        vertical-align: top;\n",
       "    }\n",
       "\n",
       "    .dataframe thead th {\n",
       "        text-align: right;\n",
       "    }\n",
       "</style>\n",
       "<table border=\"1\" class=\"dataframe\">\n",
       "  <thead>\n",
       "    <tr style=\"text-align: right;\">\n",
       "      <th></th>\n",
       "      <th>calls</th>\n",
       "      <th>days_active</th>\n",
       "      <th>isgroup2</th>\n",
       "      <th>age</th>\n",
       "    </tr>\n",
       "  </thead>\n",
       "  <tbody>\n",
       "    <tr>\n",
       "      <td>0</td>\n",
       "      <td>2</td>\n",
       "      <td>32</td>\n",
       "      <td>0</td>\n",
       "      <td>27</td>\n",
       "    </tr>\n",
       "    <tr>\n",
       "      <td>1</td>\n",
       "      <td>4</td>\n",
       "      <td>81</td>\n",
       "      <td>0</td>\n",
       "      <td>32</td>\n",
       "    </tr>\n",
       "    <tr>\n",
       "      <td>2</td>\n",
       "      <td>0</td>\n",
       "      <td>41</td>\n",
       "      <td>0</td>\n",
       "      <td>22</td>\n",
       "    </tr>\n",
       "    <tr>\n",
       "      <td>3</td>\n",
       "      <td>1</td>\n",
       "      <td>36</td>\n",
       "      <td>0</td>\n",
       "      <td>28</td>\n",
       "    </tr>\n",
       "    <tr>\n",
       "      <td>4</td>\n",
       "      <td>0</td>\n",
       "      <td>55</td>\n",
       "      <td>0</td>\n",
       "      <td>31</td>\n",
       "    </tr>\n",
       "  </tbody>\n",
       "</table>\n",
       "</div>"
      ],
      "text/plain": [
       "   calls  days_active  isgroup2  age\n",
       "0      2           32         0   27\n",
       "1      4           81         0   32\n",
       "2      0           41         0   22\n",
       "3      1           36         0   28\n",
       "4      0           55         0   31"
      ]
     },
     "execution_count": 10,
     "metadata": {},
     "output_type": "execute_result"
    }
   ],
   "source": [
    "train.head()"
   ]
  },
  {
   "cell_type": "code",
   "execution_count": null,
   "metadata": {},
   "outputs": [],
   "source": []
  },
  {
   "cell_type": "code",
   "execution_count": 11,
   "metadata": {},
   "outputs": [],
   "source": [
    "train['active_user'] = train['days_active'].apply(lambda x: 'True' if x <= 30 else 'False')\n"
   ]
  },
  {
   "cell_type": "code",
   "execution_count": 12,
   "metadata": {},
   "outputs": [
    {
     "data": {
      "text/html": [
       "<div>\n",
       "<style scoped>\n",
       "    .dataframe tbody tr th:only-of-type {\n",
       "        vertical-align: middle;\n",
       "    }\n",
       "\n",
       "    .dataframe tbody tr th {\n",
       "        vertical-align: top;\n",
       "    }\n",
       "\n",
       "    .dataframe thead th {\n",
       "        text-align: right;\n",
       "    }\n",
       "</style>\n",
       "<table border=\"1\" class=\"dataframe\">\n",
       "  <thead>\n",
       "    <tr style=\"text-align: right;\">\n",
       "      <th></th>\n",
       "      <th>calls</th>\n",
       "      <th>days_active</th>\n",
       "      <th>isgroup2</th>\n",
       "      <th>age</th>\n",
       "      <th>active_user</th>\n",
       "    </tr>\n",
       "  </thead>\n",
       "  <tbody>\n",
       "    <tr>\n",
       "      <td>0</td>\n",
       "      <td>2</td>\n",
       "      <td>32</td>\n",
       "      <td>0</td>\n",
       "      <td>27</td>\n",
       "      <td>False</td>\n",
       "    </tr>\n",
       "    <tr>\n",
       "      <td>1</td>\n",
       "      <td>4</td>\n",
       "      <td>81</td>\n",
       "      <td>0</td>\n",
       "      <td>32</td>\n",
       "      <td>False</td>\n",
       "    </tr>\n",
       "    <tr>\n",
       "      <td>2</td>\n",
       "      <td>0</td>\n",
       "      <td>41</td>\n",
       "      <td>0</td>\n",
       "      <td>22</td>\n",
       "      <td>False</td>\n",
       "    </tr>\n",
       "    <tr>\n",
       "      <td>3</td>\n",
       "      <td>1</td>\n",
       "      <td>36</td>\n",
       "      <td>0</td>\n",
       "      <td>28</td>\n",
       "      <td>False</td>\n",
       "    </tr>\n",
       "    <tr>\n",
       "      <td>4</td>\n",
       "      <td>0</td>\n",
       "      <td>55</td>\n",
       "      <td>0</td>\n",
       "      <td>31</td>\n",
       "      <td>False</td>\n",
       "    </tr>\n",
       "    <tr>\n",
       "      <td>219</td>\n",
       "      <td>1</td>\n",
       "      <td>42</td>\n",
       "      <td>1</td>\n",
       "      <td>39</td>\n",
       "      <td>False</td>\n",
       "    </tr>\n",
       "    <tr>\n",
       "      <td>220</td>\n",
       "      <td>0</td>\n",
       "      <td>38</td>\n",
       "      <td>1</td>\n",
       "      <td>28</td>\n",
       "      <td>False</td>\n",
       "    </tr>\n",
       "    <tr>\n",
       "      <td>221</td>\n",
       "      <td>2</td>\n",
       "      <td>53</td>\n",
       "      <td>1</td>\n",
       "      <td>26</td>\n",
       "      <td>False</td>\n",
       "    </tr>\n",
       "    <tr>\n",
       "      <td>222</td>\n",
       "      <td>6</td>\n",
       "      <td>69</td>\n",
       "      <td>1</td>\n",
       "      <td>21</td>\n",
       "      <td>False</td>\n",
       "    </tr>\n",
       "    <tr>\n",
       "      <td>223</td>\n",
       "      <td>2</td>\n",
       "      <td>28</td>\n",
       "      <td>1</td>\n",
       "      <td>34</td>\n",
       "      <td>True</td>\n",
       "    </tr>\n",
       "  </tbody>\n",
       "</table>\n",
       "</div>"
      ],
      "text/plain": [
       "     calls  days_active  isgroup2  age active_user\n",
       "0        2           32         0   27       False\n",
       "1        4           81         0   32       False\n",
       "2        0           41         0   22       False\n",
       "3        1           36         0   28       False\n",
       "4        0           55         0   31       False\n",
       "219      1           42         1   39       False\n",
       "220      0           38         1   28       False\n",
       "221      2           53         1   26       False\n",
       "222      6           69         1   21       False\n",
       "223      2           28         1   34        True"
      ]
     },
     "execution_count": 12,
     "metadata": {},
     "output_type": "execute_result"
    }
   ],
   "source": [
    "train.head(5).append(train.tail(5))"
   ]
  },
  {
   "cell_type": "code",
   "execution_count": 13,
   "metadata": {},
   "outputs": [],
   "source": [
    "#train['call_average'] = train['isgroup2'].apply(lambda x: 1 if train[train['isgroup2']==1] else 0)\n",
    "##################\n",
    "\n",
    "train.loc[train['isgroup2'] == 1, 'call_average'] = train[train['isgroup2']==1].calls.mean()\n",
    "train.loc[train['isgroup2'] != 1, 'call_average'] = train[train['isgroup2']!=1].calls.mean()\n",
    "\n"
   ]
  },
  {
   "cell_type": "code",
   "execution_count": 14,
   "metadata": {},
   "outputs": [
    {
     "data": {
      "text/html": [
       "<div>\n",
       "<style scoped>\n",
       "    .dataframe tbody tr th:only-of-type {\n",
       "        vertical-align: middle;\n",
       "    }\n",
       "\n",
       "    .dataframe tbody tr th {\n",
       "        vertical-align: top;\n",
       "    }\n",
       "\n",
       "    .dataframe thead th {\n",
       "        text-align: right;\n",
       "    }\n",
       "</style>\n",
       "<table border=\"1\" class=\"dataframe\">\n",
       "  <thead>\n",
       "    <tr style=\"text-align: right;\">\n",
       "      <th></th>\n",
       "      <th>calls</th>\n",
       "      <th>days_active</th>\n",
       "      <th>isgroup2</th>\n",
       "      <th>age</th>\n",
       "      <th>active_user</th>\n",
       "      <th>call_average</th>\n",
       "    </tr>\n",
       "  </thead>\n",
       "  <tbody>\n",
       "    <tr>\n",
       "      <td>0</td>\n",
       "      <td>2</td>\n",
       "      <td>32</td>\n",
       "      <td>0</td>\n",
       "      <td>27</td>\n",
       "      <td>False</td>\n",
       "      <td>0.620000</td>\n",
       "    </tr>\n",
       "    <tr>\n",
       "      <td>1</td>\n",
       "      <td>4</td>\n",
       "      <td>81</td>\n",
       "      <td>0</td>\n",
       "      <td>32</td>\n",
       "      <td>False</td>\n",
       "      <td>0.620000</td>\n",
       "    </tr>\n",
       "    <tr>\n",
       "      <td>2</td>\n",
       "      <td>0</td>\n",
       "      <td>41</td>\n",
       "      <td>0</td>\n",
       "      <td>22</td>\n",
       "      <td>False</td>\n",
       "      <td>0.620000</td>\n",
       "    </tr>\n",
       "    <tr>\n",
       "      <td>3</td>\n",
       "      <td>1</td>\n",
       "      <td>36</td>\n",
       "      <td>0</td>\n",
       "      <td>28</td>\n",
       "      <td>False</td>\n",
       "      <td>0.620000</td>\n",
       "    </tr>\n",
       "    <tr>\n",
       "      <td>4</td>\n",
       "      <td>0</td>\n",
       "      <td>55</td>\n",
       "      <td>0</td>\n",
       "      <td>31</td>\n",
       "      <td>False</td>\n",
       "      <td>0.620000</td>\n",
       "    </tr>\n",
       "    <tr>\n",
       "      <td>219</td>\n",
       "      <td>1</td>\n",
       "      <td>42</td>\n",
       "      <td>1</td>\n",
       "      <td>39</td>\n",
       "      <td>False</td>\n",
       "      <td>2.666667</td>\n",
       "    </tr>\n",
       "    <tr>\n",
       "      <td>220</td>\n",
       "      <td>0</td>\n",
       "      <td>38</td>\n",
       "      <td>1</td>\n",
       "      <td>28</td>\n",
       "      <td>False</td>\n",
       "      <td>2.666667</td>\n",
       "    </tr>\n",
       "    <tr>\n",
       "      <td>221</td>\n",
       "      <td>2</td>\n",
       "      <td>53</td>\n",
       "      <td>1</td>\n",
       "      <td>26</td>\n",
       "      <td>False</td>\n",
       "      <td>2.666667</td>\n",
       "    </tr>\n",
       "    <tr>\n",
       "      <td>222</td>\n",
       "      <td>6</td>\n",
       "      <td>69</td>\n",
       "      <td>1</td>\n",
       "      <td>21</td>\n",
       "      <td>False</td>\n",
       "      <td>2.666667</td>\n",
       "    </tr>\n",
       "    <tr>\n",
       "      <td>223</td>\n",
       "      <td>2</td>\n",
       "      <td>28</td>\n",
       "      <td>1</td>\n",
       "      <td>34</td>\n",
       "      <td>True</td>\n",
       "      <td>2.666667</td>\n",
       "    </tr>\n",
       "  </tbody>\n",
       "</table>\n",
       "</div>"
      ],
      "text/plain": [
       "     calls  days_active  isgroup2  age active_user  call_average\n",
       "0        2           32         0   27       False      0.620000\n",
       "1        4           81         0   32       False      0.620000\n",
       "2        0           41         0   22       False      0.620000\n",
       "3        1           36         0   28       False      0.620000\n",
       "4        0           55         0   31       False      0.620000\n",
       "219      1           42         1   39       False      2.666667\n",
       "220      0           38         1   28       False      2.666667\n",
       "221      2           53         1   26       False      2.666667\n",
       "222      6           69         1   21       False      2.666667\n",
       "223      2           28         1   34        True      2.666667"
      ]
     },
     "execution_count": 14,
     "metadata": {},
     "output_type": "execute_result"
    }
   ],
   "source": [
    "train.head(5).append(train.tail(5))"
   ]
  },
  {
   "cell_type": "code",
   "execution_count": 15,
   "metadata": {},
   "outputs": [
    {
     "data": {
      "text/plain": [
       "2.6666666666666665"
      ]
     },
     "execution_count": 15,
     "metadata": {},
     "output_type": "execute_result"
    }
   ],
   "source": [
    "train[train['isgroup2']==1].calls.mean()"
   ]
  },
  {
   "cell_type": "code",
   "execution_count": 16,
   "metadata": {},
   "outputs": [
    {
     "data": {
      "text/plain": [
       "0.62"
      ]
     },
     "execution_count": 16,
     "metadata": {},
     "output_type": "execute_result"
    }
   ],
   "source": [
    "train[train['isgroup2']==0].calls.mean()"
   ]
  },
  {
   "cell_type": "code",
   "execution_count": 17,
   "metadata": {},
   "outputs": [
    {
     "data": {
      "text/plain": [
       "Index(['calls', 'days_active', 'isgroup2', 'age', 'active_user', 'call_average'], dtype='object')"
      ]
     },
     "execution_count": 17,
     "metadata": {},
     "output_type": "execute_result"
    }
   ],
   "source": [
    "train.columns"
   ]
  },
  {
   "cell_type": "code",
   "execution_count": 18,
   "metadata": {},
   "outputs": [
    {
     "data": {
      "text/plain": [
       "(224, 8)"
      ]
     },
     "execution_count": 18,
     "metadata": {},
     "output_type": "execute_result"
    }
   ],
   "source": [
    "get_dummy_columns = ['active_user']\n",
    "for index in get_dummy_columns:\n",
    "    train = pd.concat([train.drop(index, axis=1), pd.get_dummies(train[index], dummy_na=True, prefix=index)], axis=1) \n",
    "train.shape\n"
   ]
  },
  {
   "cell_type": "code",
   "execution_count": 19,
   "metadata": {},
   "outputs": [
    {
     "data": {
      "text/html": [
       "<div>\n",
       "<style scoped>\n",
       "    .dataframe tbody tr th:only-of-type {\n",
       "        vertical-align: middle;\n",
       "    }\n",
       "\n",
       "    .dataframe tbody tr th {\n",
       "        vertical-align: top;\n",
       "    }\n",
       "\n",
       "    .dataframe thead th {\n",
       "        text-align: right;\n",
       "    }\n",
       "</style>\n",
       "<table border=\"1\" class=\"dataframe\">\n",
       "  <thead>\n",
       "    <tr style=\"text-align: right;\">\n",
       "      <th></th>\n",
       "      <th>calls</th>\n",
       "      <th>days_active</th>\n",
       "      <th>isgroup2</th>\n",
       "      <th>age</th>\n",
       "      <th>call_average</th>\n",
       "      <th>active_user_False</th>\n",
       "      <th>active_user_True</th>\n",
       "      <th>active_user_nan</th>\n",
       "    </tr>\n",
       "  </thead>\n",
       "  <tbody>\n",
       "    <tr>\n",
       "      <td>0</td>\n",
       "      <td>2</td>\n",
       "      <td>32</td>\n",
       "      <td>0</td>\n",
       "      <td>27</td>\n",
       "      <td>0.620000</td>\n",
       "      <td>1</td>\n",
       "      <td>0</td>\n",
       "      <td>0</td>\n",
       "    </tr>\n",
       "    <tr>\n",
       "      <td>1</td>\n",
       "      <td>4</td>\n",
       "      <td>81</td>\n",
       "      <td>0</td>\n",
       "      <td>32</td>\n",
       "      <td>0.620000</td>\n",
       "      <td>1</td>\n",
       "      <td>0</td>\n",
       "      <td>0</td>\n",
       "    </tr>\n",
       "    <tr>\n",
       "      <td>2</td>\n",
       "      <td>0</td>\n",
       "      <td>41</td>\n",
       "      <td>0</td>\n",
       "      <td>22</td>\n",
       "      <td>0.620000</td>\n",
       "      <td>1</td>\n",
       "      <td>0</td>\n",
       "      <td>0</td>\n",
       "    </tr>\n",
       "    <tr>\n",
       "      <td>3</td>\n",
       "      <td>1</td>\n",
       "      <td>36</td>\n",
       "      <td>0</td>\n",
       "      <td>28</td>\n",
       "      <td>0.620000</td>\n",
       "      <td>1</td>\n",
       "      <td>0</td>\n",
       "      <td>0</td>\n",
       "    </tr>\n",
       "    <tr>\n",
       "      <td>4</td>\n",
       "      <td>0</td>\n",
       "      <td>55</td>\n",
       "      <td>0</td>\n",
       "      <td>31</td>\n",
       "      <td>0.620000</td>\n",
       "      <td>1</td>\n",
       "      <td>0</td>\n",
       "      <td>0</td>\n",
       "    </tr>\n",
       "    <tr>\n",
       "      <td>219</td>\n",
       "      <td>1</td>\n",
       "      <td>42</td>\n",
       "      <td>1</td>\n",
       "      <td>39</td>\n",
       "      <td>2.666667</td>\n",
       "      <td>1</td>\n",
       "      <td>0</td>\n",
       "      <td>0</td>\n",
       "    </tr>\n",
       "    <tr>\n",
       "      <td>220</td>\n",
       "      <td>0</td>\n",
       "      <td>38</td>\n",
       "      <td>1</td>\n",
       "      <td>28</td>\n",
       "      <td>2.666667</td>\n",
       "      <td>1</td>\n",
       "      <td>0</td>\n",
       "      <td>0</td>\n",
       "    </tr>\n",
       "    <tr>\n",
       "      <td>221</td>\n",
       "      <td>2</td>\n",
       "      <td>53</td>\n",
       "      <td>1</td>\n",
       "      <td>26</td>\n",
       "      <td>2.666667</td>\n",
       "      <td>1</td>\n",
       "      <td>0</td>\n",
       "      <td>0</td>\n",
       "    </tr>\n",
       "    <tr>\n",
       "      <td>222</td>\n",
       "      <td>6</td>\n",
       "      <td>69</td>\n",
       "      <td>1</td>\n",
       "      <td>21</td>\n",
       "      <td>2.666667</td>\n",
       "      <td>1</td>\n",
       "      <td>0</td>\n",
       "      <td>0</td>\n",
       "    </tr>\n",
       "    <tr>\n",
       "      <td>223</td>\n",
       "      <td>2</td>\n",
       "      <td>28</td>\n",
       "      <td>1</td>\n",
       "      <td>34</td>\n",
       "      <td>2.666667</td>\n",
       "      <td>0</td>\n",
       "      <td>1</td>\n",
       "      <td>0</td>\n",
       "    </tr>\n",
       "  </tbody>\n",
       "</table>\n",
       "</div>"
      ],
      "text/plain": [
       "     calls  days_active  isgroup2  age  call_average  active_user_False  active_user_True  active_user_nan\n",
       "0        2           32         0   27      0.620000                  1                 0                0\n",
       "1        4           81         0   32      0.620000                  1                 0                0\n",
       "2        0           41         0   22      0.620000                  1                 0                0\n",
       "3        1           36         0   28      0.620000                  1                 0                0\n",
       "4        0           55         0   31      0.620000                  1                 0                0\n",
       "219      1           42         1   39      2.666667                  1                 0                0\n",
       "220      0           38         1   28      2.666667                  1                 0                0\n",
       "221      2           53         1   26      2.666667                  1                 0                0\n",
       "222      6           69         1   21      2.666667                  1                 0                0\n",
       "223      2           28         1   34      2.666667                  0                 1                0"
      ]
     },
     "execution_count": 19,
     "metadata": {},
     "output_type": "execute_result"
    }
   ],
   "source": [
    "train.head(5).append(train.tail(5))"
   ]
  },
  {
   "cell_type": "code",
   "execution_count": 20,
   "metadata": {},
   "outputs": [],
   "source": [
    "# Replace Numpy Nan values with 0 and 'nan'\n",
    "for col in train.columns:\n",
    "  if train[col].dtypes == object:\n",
    "    train[col].fillna(value='nan', inplace=True)\n",
    "  else:\n",
    "    train[col].fillna(value=0, inplace=True)"
   ]
  },
  {
   "cell_type": "code",
   "execution_count": 21,
   "metadata": {},
   "outputs": [
    {
     "data": {
      "text/html": [
       "<div>\n",
       "<style scoped>\n",
       "    .dataframe tbody tr th:only-of-type {\n",
       "        vertical-align: middle;\n",
       "    }\n",
       "\n",
       "    .dataframe tbody tr th {\n",
       "        vertical-align: top;\n",
       "    }\n",
       "\n",
       "    .dataframe thead th {\n",
       "        text-align: right;\n",
       "    }\n",
       "</style>\n",
       "<table border=\"1\" class=\"dataframe\">\n",
       "  <thead>\n",
       "    <tr style=\"text-align: right;\">\n",
       "      <th></th>\n",
       "      <th>calls</th>\n",
       "      <th>days_active</th>\n",
       "      <th>isgroup2</th>\n",
       "      <th>age</th>\n",
       "      <th>call_average</th>\n",
       "      <th>active_user_False</th>\n",
       "      <th>active_user_True</th>\n",
       "      <th>active_user_nan</th>\n",
       "    </tr>\n",
       "  </thead>\n",
       "  <tbody>\n",
       "    <tr>\n",
       "      <td>0</td>\n",
       "      <td>2</td>\n",
       "      <td>32</td>\n",
       "      <td>0</td>\n",
       "      <td>27</td>\n",
       "      <td>0.620000</td>\n",
       "      <td>1</td>\n",
       "      <td>0</td>\n",
       "      <td>0</td>\n",
       "    </tr>\n",
       "    <tr>\n",
       "      <td>1</td>\n",
       "      <td>4</td>\n",
       "      <td>81</td>\n",
       "      <td>0</td>\n",
       "      <td>32</td>\n",
       "      <td>0.620000</td>\n",
       "      <td>1</td>\n",
       "      <td>0</td>\n",
       "      <td>0</td>\n",
       "    </tr>\n",
       "    <tr>\n",
       "      <td>2</td>\n",
       "      <td>0</td>\n",
       "      <td>41</td>\n",
       "      <td>0</td>\n",
       "      <td>22</td>\n",
       "      <td>0.620000</td>\n",
       "      <td>1</td>\n",
       "      <td>0</td>\n",
       "      <td>0</td>\n",
       "    </tr>\n",
       "    <tr>\n",
       "      <td>3</td>\n",
       "      <td>1</td>\n",
       "      <td>36</td>\n",
       "      <td>0</td>\n",
       "      <td>28</td>\n",
       "      <td>0.620000</td>\n",
       "      <td>1</td>\n",
       "      <td>0</td>\n",
       "      <td>0</td>\n",
       "    </tr>\n",
       "    <tr>\n",
       "      <td>4</td>\n",
       "      <td>0</td>\n",
       "      <td>55</td>\n",
       "      <td>0</td>\n",
       "      <td>31</td>\n",
       "      <td>0.620000</td>\n",
       "      <td>1</td>\n",
       "      <td>0</td>\n",
       "      <td>0</td>\n",
       "    </tr>\n",
       "    <tr>\n",
       "      <td>219</td>\n",
       "      <td>1</td>\n",
       "      <td>42</td>\n",
       "      <td>1</td>\n",
       "      <td>39</td>\n",
       "      <td>2.666667</td>\n",
       "      <td>1</td>\n",
       "      <td>0</td>\n",
       "      <td>0</td>\n",
       "    </tr>\n",
       "    <tr>\n",
       "      <td>220</td>\n",
       "      <td>0</td>\n",
       "      <td>38</td>\n",
       "      <td>1</td>\n",
       "      <td>28</td>\n",
       "      <td>2.666667</td>\n",
       "      <td>1</td>\n",
       "      <td>0</td>\n",
       "      <td>0</td>\n",
       "    </tr>\n",
       "    <tr>\n",
       "      <td>221</td>\n",
       "      <td>2</td>\n",
       "      <td>53</td>\n",
       "      <td>1</td>\n",
       "      <td>26</td>\n",
       "      <td>2.666667</td>\n",
       "      <td>1</td>\n",
       "      <td>0</td>\n",
       "      <td>0</td>\n",
       "    </tr>\n",
       "    <tr>\n",
       "      <td>222</td>\n",
       "      <td>6</td>\n",
       "      <td>69</td>\n",
       "      <td>1</td>\n",
       "      <td>21</td>\n",
       "      <td>2.666667</td>\n",
       "      <td>1</td>\n",
       "      <td>0</td>\n",
       "      <td>0</td>\n",
       "    </tr>\n",
       "    <tr>\n",
       "      <td>223</td>\n",
       "      <td>2</td>\n",
       "      <td>28</td>\n",
       "      <td>1</td>\n",
       "      <td>34</td>\n",
       "      <td>2.666667</td>\n",
       "      <td>0</td>\n",
       "      <td>1</td>\n",
       "      <td>0</td>\n",
       "    </tr>\n",
       "  </tbody>\n",
       "</table>\n",
       "</div>"
      ],
      "text/plain": [
       "     calls  days_active  isgroup2  age  call_average  active_user_False  active_user_True  active_user_nan\n",
       "0        2           32         0   27      0.620000                  1                 0                0\n",
       "1        4           81         0   32      0.620000                  1                 0                0\n",
       "2        0           41         0   22      0.620000                  1                 0                0\n",
       "3        1           36         0   28      0.620000                  1                 0                0\n",
       "4        0           55         0   31      0.620000                  1                 0                0\n",
       "219      1           42         1   39      2.666667                  1                 0                0\n",
       "220      0           38         1   28      2.666667                  1                 0                0\n",
       "221      2           53         1   26      2.666667                  1                 0                0\n",
       "222      6           69         1   21      2.666667                  1                 0                0\n",
       "223      2           28         1   34      2.666667                  0                 1                0"
      ]
     },
     "execution_count": 21,
     "metadata": {},
     "output_type": "execute_result"
    }
   ],
   "source": [
    "train.head(5).append(train.tail(5))"
   ]
  },
  {
   "cell_type": "markdown",
   "metadata": {},
   "source": [
    "# Automatic binning methods"
   ]
  },
  {
   "cell_type": "code",
   "execution_count": 22,
   "metadata": {},
   "outputs": [],
   "source": [
    "bins_methods = [ \"auto\", \"fd\", \"doane\", \"scott\", \"stone\", \"rice\", \"sturges\", \"sqrt\"]"
   ]
  },
  {
   "cell_type": "code",
   "execution_count": 23,
   "metadata": {},
   "outputs": [],
   "source": [
    "# https://stackoverflow.com/a/18364570\n",
    "def get_columns_bins(column_name):\n",
    "    all_bins = []\n",
    "\n",
    "    for method in bins_methods:\n",
    "        start = datetime.now()\n",
    "        hist, bin_edges = np.histogram(column_name,bins=method)\n",
    "        all_bins.append(bin_edges)\n",
    "        print(\"Method : {:<7} - Running Time : {:<5} - Number of bins : {:<5} - Head : {} - Tail : {}\".format(method,str(datetime.now()-start), len(bin_edges), bin_edges[:3], bin_edges[-3:-1]))\n",
    "    return all_bins\n"
   ]
  },
  {
   "cell_type": "code",
   "execution_count": 24,
   "metadata": {},
   "outputs": [],
   "source": [
    "# https://stackoverflow.com/a/18364570\n",
    "def get_clustering_bins(s, quantile=0.3, n_samples=None):\n",
    "    \n",
    "    series = s.dropna().values.reshape(-1, 1)\n",
    "    \n",
    "    bandwidth = estimate_bandwidth(series, quantile=quantile, n_samples=n_samples)\n",
    "    clustering = MeanShift(bandwidth=bandwidth, bin_seeding=True).fit(series)\n",
    "\n",
    "    d = pd.DataFrame(columns=['data_column', 'label_column'])\n",
    "\n",
    "    d['data_column'] = series.reshape(-1)\n",
    "    d['label_column'] = clustering.labels_\n",
    "    \n",
    "    sorted_vals = d.groupby('label_column')['data_column'].max().sort_values().values\n",
    "    bins = np.insert(sorted_vals, [0] , [series.min()-1])\n",
    "    bins[-1] = bins[-1] + 1\n",
    "    \n",
    "    return bins, range(bins.size-1)"
   ]
  },
  {
   "cell_type": "markdown",
   "metadata": {},
   "source": [
    "# Apply bins to age column"
   ]
  },
  {
   "cell_type": "code",
   "execution_count": 25,
   "metadata": {},
   "outputs": [
    {
     "name": "stdout",
     "output_type": "stream",
     "text": [
      "Method : auto    - Running Time : 0:00:00.000966 - Number of bins : 12    - Head : [19.         21.18181818 23.36363636] - Tail : [38.63636364 40.81818182]\n",
      "Method : fd      - Running Time : 0:00:00.000671 - Number of bins : 12    - Head : [19.         21.18181818 23.36363636] - Tail : [38.63636364 40.81818182]\n",
      "Method : doane   - Running Time : 0:00:00.000499 - Number of bins : 11    - Head : [19.  21.4 23.8] - Tail : [38.2 40.6]\n",
      "Method : scott   - Running Time : 0:00:00.000372 - Number of bins : 10    - Head : [19.         21.66666667 24.33333333] - Tail : [37.66666667 40.33333333]\n",
      "Method : stone   - Running Time : 0:00:00.023261 - Number of bins : 101   - Head : [19.   19.24 19.48] - Tail : [42.52 42.76]\n",
      "Method : rice    - Running Time : 0:00:00.000357 - Number of bins : 14    - Head : [19.         20.84615385 22.69230769] - Tail : [39.30769231 41.15384615]\n",
      "Method : sturges - Running Time : 0:00:00.000351 - Number of bins : 10    - Head : [19.         21.66666667 24.33333333] - Tail : [37.66666667 40.33333333]\n",
      "Method : sqrt    - Running Time : 0:00:00.000306 - Number of bins : 16    - Head : [19.  20.6 22.2] - Tail : [39.8 41.4]\n"
     ]
    },
    {
     "name": "stderr",
     "output_type": "stream",
     "text": [
      "/Library/Frameworks/Python.framework/Versions/3.6/lib/python3.6/site-packages/numpy/lib/histograms.py:785: RuntimeWarning: The number of bins estimated may be suboptimal.\n",
      "  bin_edges, uniform_bins = _get_bin_edges(a, bins, range, weights)\n"
     ]
    }
   ],
   "source": [
    "all_bins_age = []\n",
    "all_bins_age = get_columns_bins(train.age)"
   ]
  },
  {
   "cell_type": "code",
   "execution_count": 26,
   "metadata": {},
   "outputs": [
    {
     "name": "stderr",
     "output_type": "stream",
     "text": [
      "/Library/Frameworks/Python.framework/Versions/3.6/lib/python3.6/site-packages/sklearn/cluster/_mean_shift.py:235: UserWarning: Binning data failed with provided bin_size=2.181818, using data points as seeds.\n",
      "  \" using data points as seeds.\" % bin_size)\n"
     ]
    },
    {
     "data": {
      "text/plain": [
       "array([18.        , 21.18181818, 23.36363636, 29.90909091, 34.27272727,\n",
       "       36.45454545, 40.81818182, 44.        ])"
      ]
     },
     "execution_count": 26,
     "metadata": {},
     "output_type": "execute_result"
    },
    {
     "data": {
      "image/png": "[encoded data removed]",
      "text/plain": [
       "<Figure size 432x288 with 1 Axes>"
      ]
     },
     "metadata": {
      "needs_background": "light"
     },
     "output_type": "display_data"
    }
   ],
   "source": [
    "age_bin,label = get_clustering_bins(pd.Series(all_bins_age[0]), quantile=0.2, n_samples=10)\n",
    "train.age.hist(bins=age_bin)\n",
    "age_bin"
   ]
  },
  {
   "cell_type": "code",
   "execution_count": 27,
   "metadata": {},
   "outputs": [
    {
     "data": {
      "text/plain": [
       "(8, (29.909, 34.273]    81\n",
       " (23.364, 29.909]    80\n",
       " (36.455, 40.818]    21\n",
       " (34.273, 36.455]    14\n",
       " (21.182, 23.364]    14\n",
       " (17.999, 21.182]     8\n",
       " (40.818, 44.0]       6\n",
       " Name: age, dtype: int64)"
      ]
     },
     "execution_count": 27,
     "metadata": {},
     "output_type": "execute_result"
    }
   ],
   "source": [
    "len(age_bin) , train.age.value_counts(bins=age_bin)\n"
   ]
  },
  {
   "cell_type": "code",
   "execution_count": 28,
   "metadata": {},
   "outputs": [
    {
     "data": {
      "text/html": [
       "<div>\n",
       "<style scoped>\n",
       "    .dataframe tbody tr th:only-of-type {\n",
       "        vertical-align: middle;\n",
       "    }\n",
       "\n",
       "    .dataframe tbody tr th {\n",
       "        vertical-align: top;\n",
       "    }\n",
       "\n",
       "    .dataframe thead th {\n",
       "        text-align: right;\n",
       "    }\n",
       "</style>\n",
       "<table border=\"1\" class=\"dataframe\">\n",
       "  <thead>\n",
       "    <tr style=\"text-align: right;\">\n",
       "      <th></th>\n",
       "      <th>calls</th>\n",
       "      <th>days_active</th>\n",
       "      <th>isgroup2</th>\n",
       "      <th>age</th>\n",
       "      <th>call_average</th>\n",
       "      <th>active_user_False</th>\n",
       "      <th>active_user_True</th>\n",
       "      <th>active_user_nan</th>\n",
       "    </tr>\n",
       "  </thead>\n",
       "  <tbody>\n",
       "    <tr>\n",
       "      <td>0</td>\n",
       "      <td>2</td>\n",
       "      <td>32</td>\n",
       "      <td>0</td>\n",
       "      <td>27</td>\n",
       "      <td>0.620000</td>\n",
       "      <td>1</td>\n",
       "      <td>0</td>\n",
       "      <td>0</td>\n",
       "    </tr>\n",
       "    <tr>\n",
       "      <td>1</td>\n",
       "      <td>4</td>\n",
       "      <td>81</td>\n",
       "      <td>0</td>\n",
       "      <td>32</td>\n",
       "      <td>0.620000</td>\n",
       "      <td>1</td>\n",
       "      <td>0</td>\n",
       "      <td>0</td>\n",
       "    </tr>\n",
       "    <tr>\n",
       "      <td>2</td>\n",
       "      <td>0</td>\n",
       "      <td>41</td>\n",
       "      <td>0</td>\n",
       "      <td>22</td>\n",
       "      <td>0.620000</td>\n",
       "      <td>1</td>\n",
       "      <td>0</td>\n",
       "      <td>0</td>\n",
       "    </tr>\n",
       "    <tr>\n",
       "      <td>3</td>\n",
       "      <td>1</td>\n",
       "      <td>36</td>\n",
       "      <td>0</td>\n",
       "      <td>28</td>\n",
       "      <td>0.620000</td>\n",
       "      <td>1</td>\n",
       "      <td>0</td>\n",
       "      <td>0</td>\n",
       "    </tr>\n",
       "    <tr>\n",
       "      <td>4</td>\n",
       "      <td>0</td>\n",
       "      <td>55</td>\n",
       "      <td>0</td>\n",
       "      <td>31</td>\n",
       "      <td>0.620000</td>\n",
       "      <td>1</td>\n",
       "      <td>0</td>\n",
       "      <td>0</td>\n",
       "    </tr>\n",
       "    <tr>\n",
       "      <td>219</td>\n",
       "      <td>1</td>\n",
       "      <td>42</td>\n",
       "      <td>1</td>\n",
       "      <td>39</td>\n",
       "      <td>2.666667</td>\n",
       "      <td>1</td>\n",
       "      <td>0</td>\n",
       "      <td>0</td>\n",
       "    </tr>\n",
       "    <tr>\n",
       "      <td>220</td>\n",
       "      <td>0</td>\n",
       "      <td>38</td>\n",
       "      <td>1</td>\n",
       "      <td>28</td>\n",
       "      <td>2.666667</td>\n",
       "      <td>1</td>\n",
       "      <td>0</td>\n",
       "      <td>0</td>\n",
       "    </tr>\n",
       "    <tr>\n",
       "      <td>221</td>\n",
       "      <td>2</td>\n",
       "      <td>53</td>\n",
       "      <td>1</td>\n",
       "      <td>26</td>\n",
       "      <td>2.666667</td>\n",
       "      <td>1</td>\n",
       "      <td>0</td>\n",
       "      <td>0</td>\n",
       "    </tr>\n",
       "    <tr>\n",
       "      <td>222</td>\n",
       "      <td>6</td>\n",
       "      <td>69</td>\n",
       "      <td>1</td>\n",
       "      <td>21</td>\n",
       "      <td>2.666667</td>\n",
       "      <td>1</td>\n",
       "      <td>0</td>\n",
       "      <td>0</td>\n",
       "    </tr>\n",
       "    <tr>\n",
       "      <td>223</td>\n",
       "      <td>2</td>\n",
       "      <td>28</td>\n",
       "      <td>1</td>\n",
       "      <td>34</td>\n",
       "      <td>2.666667</td>\n",
       "      <td>0</td>\n",
       "      <td>1</td>\n",
       "      <td>0</td>\n",
       "    </tr>\n",
       "  </tbody>\n",
       "</table>\n",
       "</div>"
      ],
      "text/plain": [
       "     calls  days_active  isgroup2  age  call_average  active_user_False  active_user_True  active_user_nan\n",
       "0        2           32         0   27      0.620000                  1                 0                0\n",
       "1        4           81         0   32      0.620000                  1                 0                0\n",
       "2        0           41         0   22      0.620000                  1                 0                0\n",
       "3        1           36         0   28      0.620000                  1                 0                0\n",
       "4        0           55         0   31      0.620000                  1                 0                0\n",
       "219      1           42         1   39      2.666667                  1                 0                0\n",
       "220      0           38         1   28      2.666667                  1                 0                0\n",
       "221      2           53         1   26      2.666667                  1                 0                0\n",
       "222      6           69         1   21      2.666667                  1                 0                0\n",
       "223      2           28         1   34      2.666667                  0                 1                0"
      ]
     },
     "execution_count": 28,
     "metadata": {},
     "output_type": "execute_result"
    }
   ],
   "source": [
    "train.head(5).append(train.tail(5))"
   ]
  },
  {
   "cell_type": "code",
   "execution_count": 29,
   "metadata": {},
   "outputs": [
    {
     "data": {
      "text/plain": [
       "(224, 8)"
      ]
     },
     "execution_count": 29,
     "metadata": {},
     "output_type": "execute_result"
    }
   ],
   "source": [
    "train.shape"
   ]
  },
  {
   "cell_type": "code",
   "execution_count": 30,
   "metadata": {},
   "outputs": [
    {
     "data": {
      "text/html": [
       "<div>\n",
       "<style scoped>\n",
       "    .dataframe tbody tr th:only-of-type {\n",
       "        vertical-align: middle;\n",
       "    }\n",
       "\n",
       "    .dataframe tbody tr th {\n",
       "        vertical-align: top;\n",
       "    }\n",
       "\n",
       "    .dataframe thead th {\n",
       "        text-align: right;\n",
       "    }\n",
       "</style>\n",
       "<table border=\"1\" class=\"dataframe\">\n",
       "  <thead>\n",
       "    <tr style=\"text-align: right;\">\n",
       "      <th></th>\n",
       "      <th>calls</th>\n",
       "      <th>days_active</th>\n",
       "      <th>isgroup2</th>\n",
       "      <th>age</th>\n",
       "      <th>call_average</th>\n",
       "      <th>active_user_False</th>\n",
       "      <th>active_user_True</th>\n",
       "      <th>active_user_nan</th>\n",
       "      <th>age_category</th>\n",
       "    </tr>\n",
       "  </thead>\n",
       "  <tbody>\n",
       "    <tr>\n",
       "      <td>0</td>\n",
       "      <td>2</td>\n",
       "      <td>32</td>\n",
       "      <td>0</td>\n",
       "      <td>27</td>\n",
       "      <td>0.620000</td>\n",
       "      <td>1</td>\n",
       "      <td>0</td>\n",
       "      <td>0</td>\n",
       "      <td>2</td>\n",
       "    </tr>\n",
       "    <tr>\n",
       "      <td>1</td>\n",
       "      <td>4</td>\n",
       "      <td>81</td>\n",
       "      <td>0</td>\n",
       "      <td>32</td>\n",
       "      <td>0.620000</td>\n",
       "      <td>1</td>\n",
       "      <td>0</td>\n",
       "      <td>0</td>\n",
       "      <td>3</td>\n",
       "    </tr>\n",
       "    <tr>\n",
       "      <td>2</td>\n",
       "      <td>0</td>\n",
       "      <td>41</td>\n",
       "      <td>0</td>\n",
       "      <td>22</td>\n",
       "      <td>0.620000</td>\n",
       "      <td>1</td>\n",
       "      <td>0</td>\n",
       "      <td>0</td>\n",
       "      <td>1</td>\n",
       "    </tr>\n",
       "    <tr>\n",
       "      <td>3</td>\n",
       "      <td>1</td>\n",
       "      <td>36</td>\n",
       "      <td>0</td>\n",
       "      <td>28</td>\n",
       "      <td>0.620000</td>\n",
       "      <td>1</td>\n",
       "      <td>0</td>\n",
       "      <td>0</td>\n",
       "      <td>2</td>\n",
       "    </tr>\n",
       "    <tr>\n",
       "      <td>4</td>\n",
       "      <td>0</td>\n",
       "      <td>55</td>\n",
       "      <td>0</td>\n",
       "      <td>31</td>\n",
       "      <td>0.620000</td>\n",
       "      <td>1</td>\n",
       "      <td>0</td>\n",
       "      <td>0</td>\n",
       "      <td>3</td>\n",
       "    </tr>\n",
       "    <tr>\n",
       "      <td>219</td>\n",
       "      <td>1</td>\n",
       "      <td>42</td>\n",
       "      <td>1</td>\n",
       "      <td>39</td>\n",
       "      <td>2.666667</td>\n",
       "      <td>1</td>\n",
       "      <td>0</td>\n",
       "      <td>0</td>\n",
       "      <td>5</td>\n",
       "    </tr>\n",
       "    <tr>\n",
       "      <td>220</td>\n",
       "      <td>0</td>\n",
       "      <td>38</td>\n",
       "      <td>1</td>\n",
       "      <td>28</td>\n",
       "      <td>2.666667</td>\n",
       "      <td>1</td>\n",
       "      <td>0</td>\n",
       "      <td>0</td>\n",
       "      <td>2</td>\n",
       "    </tr>\n",
       "    <tr>\n",
       "      <td>221</td>\n",
       "      <td>2</td>\n",
       "      <td>53</td>\n",
       "      <td>1</td>\n",
       "      <td>26</td>\n",
       "      <td>2.666667</td>\n",
       "      <td>1</td>\n",
       "      <td>0</td>\n",
       "      <td>0</td>\n",
       "      <td>2</td>\n",
       "    </tr>\n",
       "    <tr>\n",
       "      <td>222</td>\n",
       "      <td>6</td>\n",
       "      <td>69</td>\n",
       "      <td>1</td>\n",
       "      <td>21</td>\n",
       "      <td>2.666667</td>\n",
       "      <td>1</td>\n",
       "      <td>0</td>\n",
       "      <td>0</td>\n",
       "      <td>0</td>\n",
       "    </tr>\n",
       "    <tr>\n",
       "      <td>223</td>\n",
       "      <td>2</td>\n",
       "      <td>28</td>\n",
       "      <td>1</td>\n",
       "      <td>34</td>\n",
       "      <td>2.666667</td>\n",
       "      <td>0</td>\n",
       "      <td>1</td>\n",
       "      <td>0</td>\n",
       "      <td>3</td>\n",
       "    </tr>\n",
       "  </tbody>\n",
       "</table>\n",
       "</div>"
      ],
      "text/plain": [
       "     calls  days_active  isgroup2  age  call_average  active_user_False  active_user_True  active_user_nan  age_category\n",
       "0        2           32         0   27      0.620000                  1                 0                0             2\n",
       "1        4           81         0   32      0.620000                  1                 0                0             3\n",
       "2        0           41         0   22      0.620000                  1                 0                0             1\n",
       "3        1           36         0   28      0.620000                  1                 0                0             2\n",
       "4        0           55         0   31      0.620000                  1                 0                0             3\n",
       "219      1           42         1   39      2.666667                  1                 0                0             5\n",
       "220      0           38         1   28      2.666667                  1                 0                0             2\n",
       "221      2           53         1   26      2.666667                  1                 0                0             2\n",
       "222      6           69         1   21      2.666667                  1                 0                0             0\n",
       "223      2           28         1   34      2.666667                  0                 1                0             3"
      ]
     },
     "execution_count": 30,
     "metadata": {},
     "output_type": "execute_result"
    }
   ],
   "source": [
    "train['age_category'] = pd.cut(train.age, age_bin).cat.codes\n",
    "train.head(5).append(train.tail(5))"
   ]
  },
  {
   "cell_type": "code",
   "execution_count": 31,
   "metadata": {},
   "outputs": [],
   "source": [
    "train = train.drop(columns = 'active_user_nan')"
   ]
  },
  {
   "cell_type": "code",
   "execution_count": 32,
   "metadata": {},
   "outputs": [
    {
     "data": {
      "text/plain": [
       "(224, 8)"
      ]
     },
     "execution_count": 32,
     "metadata": {},
     "output_type": "execute_result"
    }
   ],
   "source": [
    "train.shape"
   ]
  },
  {
   "cell_type": "code",
   "execution_count": 33,
   "metadata": {},
   "outputs": [
    {
     "name": "stdout",
     "output_type": "stream",
     "text": [
      "Method : auto    - Running Time : 0:00:00.001291 - Number of bins : 10    - Head : [21.         28.66666667 36.33333333] - Tail : [74.66666667 82.33333333]\n",
      "Method : fd      - Running Time : 0:00:00.000557 - Number of bins : 8     - Head : [21.         30.85714286 40.71428571] - Tail : [70.28571429 80.14285714]\n",
      "Method : doane   - Running Time : 0:00:00.000591 - Number of bins : 11    - Head : [21.  27.9 34.8] - Tail : [76.2 83.1]\n",
      "Method : scott   - Running Time : 0:00:00.000409 - Number of bins : 8     - Head : [21.         30.85714286 40.71428571] - Tail : [70.28571429 80.14285714]\n",
      "Method : stone   - Running Time : 0:00:00.020400 - Number of bins : 2     - Head : [21. 90.] - Tail : [21.]\n",
      "Method : rice    - Running Time : 0:00:00.000415 - Number of bins : 14    - Head : [21.         26.30769231 31.61538462] - Tail : [79.38461538 84.69230769]\n",
      "Method : sturges - Running Time : 0:00:00.000492 - Number of bins : 10    - Head : [21.         28.66666667 36.33333333] - Tail : [74.66666667 82.33333333]\n",
      "Method : sqrt    - Running Time : 0:00:00.000365 - Number of bins : 16    - Head : [21.  25.6 30.2] - Tail : [80.8 85.4]\n"
     ]
    }
   ],
   "source": [
    "all_bins_days_active = []\n",
    "all_bins_days_active = get_columns_bins(train.days_active)"
   ]
  },
  {
   "cell_type": "code",
   "execution_count": 34,
   "metadata": {},
   "outputs": [
    {
     "name": "stderr",
     "output_type": "stream",
     "text": [
      "/Library/Frameworks/Python.framework/Versions/3.6/lib/python3.6/site-packages/sklearn/cluster/_mean_shift.py:235: UserWarning: Binning data failed with provided bin_size=7.666667, using data points as seeds.\n",
      "  \" using data points as seeds.\" % bin_size)\n"
     ]
    },
    {
     "data": {
      "text/plain": [
       "array([20.        , 21.        , 28.66666667, 36.33333333, 44.        ,\n",
       "       67.        , 74.66666667, 91.        ])"
      ]
     },
     "execution_count": 34,
     "metadata": {},
     "output_type": "execute_result"
    },
    {
     "data": {
      "image/png": "[encoded data removed]",
      "text/plain": [
       "<Figure size 432x288 with 1 Axes>"
      ]
     },
     "metadata": {
      "needs_background": "light"
     },
     "output_type": "display_data"
    }
   ],
   "source": [
    "days_active_bin,label = get_clustering_bins(pd.Series(all_bins_days_active[0]), quantile=0.2, n_samples=10)\n",
    "train.days_active.hist(bins=days_active_bin)\n",
    "days_active_bin"
   ]
  },
  {
   "cell_type": "code",
   "execution_count": 35,
   "metadata": {},
   "outputs": [
    {
     "data": {
      "text/plain": [
       "(8, (44.0, 67.0]        67\n",
       " (74.667, 91.0]      44\n",
       " (28.667, 36.333]    32\n",
       " (36.333, 44.0]      29\n",
       " (67.0, 74.667]      25\n",
       " (21.0, 28.667]      23\n",
       " (19.999, 21.0]       4\n",
       " Name: days_active, dtype: int64)"
      ]
     },
     "execution_count": 35,
     "metadata": {},
     "output_type": "execute_result"
    }
   ],
   "source": [
    "len(days_active_bin) , train.days_active.value_counts(bins=days_active_bin)\n"
   ]
  },
  {
   "cell_type": "code",
   "execution_count": 36,
   "metadata": {},
   "outputs": [
    {
     "data": {
      "text/html": [
       "<div>\n",
       "<style scoped>\n",
       "    .dataframe tbody tr th:only-of-type {\n",
       "        vertical-align: middle;\n",
       "    }\n",
       "\n",
       "    .dataframe tbody tr th {\n",
       "        vertical-align: top;\n",
       "    }\n",
       "\n",
       "    .dataframe thead th {\n",
       "        text-align: right;\n",
       "    }\n",
       "</style>\n",
       "<table border=\"1\" class=\"dataframe\">\n",
       "  <thead>\n",
       "    <tr style=\"text-align: right;\">\n",
       "      <th></th>\n",
       "      <th>calls</th>\n",
       "      <th>days_active</th>\n",
       "      <th>isgroup2</th>\n",
       "      <th>age</th>\n",
       "      <th>call_average</th>\n",
       "      <th>active_user_False</th>\n",
       "      <th>active_user_True</th>\n",
       "      <th>age_category</th>\n",
       "      <th>days_active_category</th>\n",
       "    </tr>\n",
       "  </thead>\n",
       "  <tbody>\n",
       "    <tr>\n",
       "      <td>0</td>\n",
       "      <td>2</td>\n",
       "      <td>32</td>\n",
       "      <td>0</td>\n",
       "      <td>27</td>\n",
       "      <td>0.620000</td>\n",
       "      <td>1</td>\n",
       "      <td>0</td>\n",
       "      <td>2</td>\n",
       "      <td>2</td>\n",
       "    </tr>\n",
       "    <tr>\n",
       "      <td>1</td>\n",
       "      <td>4</td>\n",
       "      <td>81</td>\n",
       "      <td>0</td>\n",
       "      <td>32</td>\n",
       "      <td>0.620000</td>\n",
       "      <td>1</td>\n",
       "      <td>0</td>\n",
       "      <td>3</td>\n",
       "      <td>6</td>\n",
       "    </tr>\n",
       "    <tr>\n",
       "      <td>2</td>\n",
       "      <td>0</td>\n",
       "      <td>41</td>\n",
       "      <td>0</td>\n",
       "      <td>22</td>\n",
       "      <td>0.620000</td>\n",
       "      <td>1</td>\n",
       "      <td>0</td>\n",
       "      <td>1</td>\n",
       "      <td>3</td>\n",
       "    </tr>\n",
       "    <tr>\n",
       "      <td>3</td>\n",
       "      <td>1</td>\n",
       "      <td>36</td>\n",
       "      <td>0</td>\n",
       "      <td>28</td>\n",
       "      <td>0.620000</td>\n",
       "      <td>1</td>\n",
       "      <td>0</td>\n",
       "      <td>2</td>\n",
       "      <td>2</td>\n",
       "    </tr>\n",
       "    <tr>\n",
       "      <td>4</td>\n",
       "      <td>0</td>\n",
       "      <td>55</td>\n",
       "      <td>0</td>\n",
       "      <td>31</td>\n",
       "      <td>0.620000</td>\n",
       "      <td>1</td>\n",
       "      <td>0</td>\n",
       "      <td>3</td>\n",
       "      <td>4</td>\n",
       "    </tr>\n",
       "    <tr>\n",
       "      <td>219</td>\n",
       "      <td>1</td>\n",
       "      <td>42</td>\n",
       "      <td>1</td>\n",
       "      <td>39</td>\n",
       "      <td>2.666667</td>\n",
       "      <td>1</td>\n",
       "      <td>0</td>\n",
       "      <td>5</td>\n",
       "      <td>3</td>\n",
       "    </tr>\n",
       "    <tr>\n",
       "      <td>220</td>\n",
       "      <td>0</td>\n",
       "      <td>38</td>\n",
       "      <td>1</td>\n",
       "      <td>28</td>\n",
       "      <td>2.666667</td>\n",
       "      <td>1</td>\n",
       "      <td>0</td>\n",
       "      <td>2</td>\n",
       "      <td>3</td>\n",
       "    </tr>\n",
       "    <tr>\n",
       "      <td>221</td>\n",
       "      <td>2</td>\n",
       "      <td>53</td>\n",
       "      <td>1</td>\n",
       "      <td>26</td>\n",
       "      <td>2.666667</td>\n",
       "      <td>1</td>\n",
       "      <td>0</td>\n",
       "      <td>2</td>\n",
       "      <td>4</td>\n",
       "    </tr>\n",
       "    <tr>\n",
       "      <td>222</td>\n",
       "      <td>6</td>\n",
       "      <td>69</td>\n",
       "      <td>1</td>\n",
       "      <td>21</td>\n",
       "      <td>2.666667</td>\n",
       "      <td>1</td>\n",
       "      <td>0</td>\n",
       "      <td>0</td>\n",
       "      <td>5</td>\n",
       "    </tr>\n",
       "    <tr>\n",
       "      <td>223</td>\n",
       "      <td>2</td>\n",
       "      <td>28</td>\n",
       "      <td>1</td>\n",
       "      <td>34</td>\n",
       "      <td>2.666667</td>\n",
       "      <td>0</td>\n",
       "      <td>1</td>\n",
       "      <td>3</td>\n",
       "      <td>1</td>\n",
       "    </tr>\n",
       "  </tbody>\n",
       "</table>\n",
       "</div>"
      ],
      "text/plain": [
       "     calls  days_active  isgroup2  age  call_average  active_user_False  active_user_True  age_category  days_active_category\n",
       "0        2           32         0   27      0.620000                  1                 0             2                     2\n",
       "1        4           81         0   32      0.620000                  1                 0             3                     6\n",
       "2        0           41         0   22      0.620000                  1                 0             1                     3\n",
       "3        1           36         0   28      0.620000                  1                 0             2                     2\n",
       "4        0           55         0   31      0.620000                  1                 0             3                     4\n",
       "219      1           42         1   39      2.666667                  1                 0             5                     3\n",
       "220      0           38         1   28      2.666667                  1                 0             2                     3\n",
       "221      2           53         1   26      2.666667                  1                 0             2                     4\n",
       "222      6           69         1   21      2.666667                  1                 0             0                     5\n",
       "223      2           28         1   34      2.666667                  0                 1             3                     1"
      ]
     },
     "execution_count": 36,
     "metadata": {},
     "output_type": "execute_result"
    }
   ],
   "source": [
    "train['days_active_category'] = pd.cut(train.days_active, days_active_bin).cat.codes\n",
    "train.head(5).append(train.tail(5))"
   ]
  },
  {
   "cell_type": "code",
   "execution_count": 37,
   "metadata": {},
   "outputs": [
    {
     "data": {
      "text/plain": [
       "(224, 9)"
      ]
     },
     "execution_count": 37,
     "metadata": {},
     "output_type": "execute_result"
    }
   ],
   "source": [
    "train.shape"
   ]
  },
  {
   "cell_type": "code",
   "execution_count": 38,
   "metadata": {},
   "outputs": [
    {
     "data": {
      "text/html": [
       "<div>\n",
       "<style scoped>\n",
       "    .dataframe tbody tr th:only-of-type {\n",
       "        vertical-align: middle;\n",
       "    }\n",
       "\n",
       "    .dataframe tbody tr th {\n",
       "        vertical-align: top;\n",
       "    }\n",
       "\n",
       "    .dataframe thead th {\n",
       "        text-align: right;\n",
       "    }\n",
       "</style>\n",
       "<table border=\"1\" class=\"dataframe\">\n",
       "  <thead>\n",
       "    <tr style=\"text-align: right;\">\n",
       "      <th></th>\n",
       "      <th>calls</th>\n",
       "      <th>isgroup2</th>\n",
       "      <th>call_average</th>\n",
       "      <th>active_user_False</th>\n",
       "      <th>active_user_True</th>\n",
       "      <th>age_category</th>\n",
       "      <th>days_active_category</th>\n",
       "    </tr>\n",
       "  </thead>\n",
       "  <tbody>\n",
       "    <tr>\n",
       "      <td>0</td>\n",
       "      <td>2</td>\n",
       "      <td>0</td>\n",
       "      <td>0.620000</td>\n",
       "      <td>1</td>\n",
       "      <td>0</td>\n",
       "      <td>2</td>\n",
       "      <td>2</td>\n",
       "    </tr>\n",
       "    <tr>\n",
       "      <td>1</td>\n",
       "      <td>4</td>\n",
       "      <td>0</td>\n",
       "      <td>0.620000</td>\n",
       "      <td>1</td>\n",
       "      <td>0</td>\n",
       "      <td>3</td>\n",
       "      <td>6</td>\n",
       "    </tr>\n",
       "    <tr>\n",
       "      <td>2</td>\n",
       "      <td>0</td>\n",
       "      <td>0</td>\n",
       "      <td>0.620000</td>\n",
       "      <td>1</td>\n",
       "      <td>0</td>\n",
       "      <td>1</td>\n",
       "      <td>3</td>\n",
       "    </tr>\n",
       "    <tr>\n",
       "      <td>3</td>\n",
       "      <td>1</td>\n",
       "      <td>0</td>\n",
       "      <td>0.620000</td>\n",
       "      <td>1</td>\n",
       "      <td>0</td>\n",
       "      <td>2</td>\n",
       "      <td>2</td>\n",
       "    </tr>\n",
       "    <tr>\n",
       "      <td>4</td>\n",
       "      <td>0</td>\n",
       "      <td>0</td>\n",
       "      <td>0.620000</td>\n",
       "      <td>1</td>\n",
       "      <td>0</td>\n",
       "      <td>3</td>\n",
       "      <td>4</td>\n",
       "    </tr>\n",
       "    <tr>\n",
       "      <td>219</td>\n",
       "      <td>1</td>\n",
       "      <td>1</td>\n",
       "      <td>2.666667</td>\n",
       "      <td>1</td>\n",
       "      <td>0</td>\n",
       "      <td>5</td>\n",
       "      <td>3</td>\n",
       "    </tr>\n",
       "    <tr>\n",
       "      <td>220</td>\n",
       "      <td>0</td>\n",
       "      <td>1</td>\n",
       "      <td>2.666667</td>\n",
       "      <td>1</td>\n",
       "      <td>0</td>\n",
       "      <td>2</td>\n",
       "      <td>3</td>\n",
       "    </tr>\n",
       "    <tr>\n",
       "      <td>221</td>\n",
       "      <td>2</td>\n",
       "      <td>1</td>\n",
       "      <td>2.666667</td>\n",
       "      <td>1</td>\n",
       "      <td>0</td>\n",
       "      <td>2</td>\n",
       "      <td>4</td>\n",
       "    </tr>\n",
       "    <tr>\n",
       "      <td>222</td>\n",
       "      <td>6</td>\n",
       "      <td>1</td>\n",
       "      <td>2.666667</td>\n",
       "      <td>1</td>\n",
       "      <td>0</td>\n",
       "      <td>0</td>\n",
       "      <td>5</td>\n",
       "    </tr>\n",
       "    <tr>\n",
       "      <td>223</td>\n",
       "      <td>2</td>\n",
       "      <td>1</td>\n",
       "      <td>2.666667</td>\n",
       "      <td>0</td>\n",
       "      <td>1</td>\n",
       "      <td>3</td>\n",
       "      <td>1</td>\n",
       "    </tr>\n",
       "  </tbody>\n",
       "</table>\n",
       "</div>"
      ],
      "text/plain": [
       "     calls  isgroup2  call_average  active_user_False  active_user_True  age_category  days_active_category\n",
       "0        2         0      0.620000                  1                 0             2                     2\n",
       "1        4         0      0.620000                  1                 0             3                     6\n",
       "2        0         0      0.620000                  1                 0             1                     3\n",
       "3        1         0      0.620000                  1                 0             2                     2\n",
       "4        0         0      0.620000                  1                 0             3                     4\n",
       "219      1         1      2.666667                  1                 0             5                     3\n",
       "220      0         1      2.666667                  1                 0             2                     3\n",
       "221      2         1      2.666667                  1                 0             2                     4\n",
       "222      6         1      2.666667                  1                 0             0                     5\n",
       "223      2         1      2.666667                  0                 1             3                     1"
      ]
     },
     "execution_count": 38,
     "metadata": {},
     "output_type": "execute_result"
    }
   ],
   "source": [
    "train = train.drop(columns = ['age', 'days_active'])\n",
    "train.head(5).append(train.tail(5))"
   ]
  },
  {
   "cell_type": "code",
   "execution_count": null,
   "metadata": {},
   "outputs": [],
   "source": []
  },
  {
   "cell_type": "code",
   "execution_count": null,
   "metadata": {},
   "outputs": [],
   "source": []
  },
  {
   "cell_type": "code",
   "execution_count": 39,
   "metadata": {
    "colab": {
     "base_uri": "https://localhost:8080/",
     "height": 173
    },
    "executionInfo": {
     "elapsed": 1100,
     "status": "ok",
     "timestamp": 1604153234779,
     "user": {
      "displayName": "Eser İnan Arslan",
      "photoUrl": "https://lh3.googleusercontent.com/a-/AOh14Ggz536p806W0W9-wxWFfPdVV303PuNNPAhu9S1UjA=s64",
      "userId": "01966049699378036829"
     },
     "user_tz": -180
    },
    "id": "ADRM0Dla8F1R",
    "outputId": "e056724a-766e-42ea-abbe-629a4ea3ae69"
   },
   "outputs": [
    {
     "data": {
      "text/html": [
       "<div>\n",
       "<style scoped>\n",
       "    .dataframe tbody tr th:only-of-type {\n",
       "        vertical-align: middle;\n",
       "    }\n",
       "\n",
       "    .dataframe tbody tr th {\n",
       "        vertical-align: top;\n",
       "    }\n",
       "\n",
       "    .dataframe thead th {\n",
       "        text-align: right;\n",
       "    }\n",
       "</style>\n",
       "<table border=\"1\" class=\"dataframe\">\n",
       "  <thead>\n",
       "    <tr style=\"text-align: right;\">\n",
       "      <th></th>\n",
       "      <th>calls</th>\n",
       "      <th>isgroup2</th>\n",
       "      <th>call_average</th>\n",
       "      <th>active_user_False</th>\n",
       "      <th>active_user_True</th>\n",
       "      <th>age_category</th>\n",
       "      <th>days_active_category</th>\n",
       "    </tr>\n",
       "  </thead>\n",
       "  <tbody>\n",
       "    <tr>\n",
       "      <td>calls</td>\n",
       "      <td>1.000000</td>\n",
       "      <td>0.492399</td>\n",
       "      <td>0.492399</td>\n",
       "      <td>0.156608</td>\n",
       "      <td>-0.156608</td>\n",
       "      <td>-0.191175</td>\n",
       "      <td>0.304150</td>\n",
       "    </tr>\n",
       "    <tr>\n",
       "      <td>isgroup2</td>\n",
       "      <td>0.492399</td>\n",
       "      <td>1.000000</td>\n",
       "      <td>1.000000</td>\n",
       "      <td>-0.089443</td>\n",
       "      <td>0.089443</td>\n",
       "      <td>0.049015</td>\n",
       "      <td>-0.061531</td>\n",
       "    </tr>\n",
       "    <tr>\n",
       "      <td>call_average</td>\n",
       "      <td>0.492399</td>\n",
       "      <td>1.000000</td>\n",
       "      <td>1.000000</td>\n",
       "      <td>-0.089443</td>\n",
       "      <td>0.089443</td>\n",
       "      <td>0.049015</td>\n",
       "      <td>-0.061531</td>\n",
       "    </tr>\n",
       "    <tr>\n",
       "      <td>active_user_False</td>\n",
       "      <td>0.156608</td>\n",
       "      <td>-0.089443</td>\n",
       "      <td>-0.089443</td>\n",
       "      <td>1.000000</td>\n",
       "      <td>-1.000000</td>\n",
       "      <td>-0.050156</td>\n",
       "      <td>0.676768</td>\n",
       "    </tr>\n",
       "    <tr>\n",
       "      <td>active_user_True</td>\n",
       "      <td>-0.156608</td>\n",
       "      <td>0.089443</td>\n",
       "      <td>0.089443</td>\n",
       "      <td>-1.000000</td>\n",
       "      <td>1.000000</td>\n",
       "      <td>0.050156</td>\n",
       "      <td>-0.676768</td>\n",
       "    </tr>\n",
       "    <tr>\n",
       "      <td>age_category</td>\n",
       "      <td>-0.191175</td>\n",
       "      <td>0.049015</td>\n",
       "      <td>0.049015</td>\n",
       "      <td>-0.050156</td>\n",
       "      <td>0.050156</td>\n",
       "      <td>1.000000</td>\n",
       "      <td>-0.041044</td>\n",
       "    </tr>\n",
       "    <tr>\n",
       "      <td>days_active_category</td>\n",
       "      <td>0.304150</td>\n",
       "      <td>-0.061531</td>\n",
       "      <td>-0.061531</td>\n",
       "      <td>0.676768</td>\n",
       "      <td>-0.676768</td>\n",
       "      <td>-0.041044</td>\n",
       "      <td>1.000000</td>\n",
       "    </tr>\n",
       "  </tbody>\n",
       "</table>\n",
       "</div>"
      ],
      "text/plain": [
       "                         calls  isgroup2  call_average  active_user_False  active_user_True  age_category  days_active_category\n",
       "calls                 1.000000  0.492399      0.492399           0.156608         -0.156608     -0.191175              0.304150\n",
       "isgroup2              0.492399  1.000000      1.000000          -0.089443          0.089443      0.049015             -0.061531\n",
       "call_average          0.492399  1.000000      1.000000          -0.089443          0.089443      0.049015             -0.061531\n",
       "active_user_False     0.156608 -0.089443     -0.089443           1.000000         -1.000000     -0.050156              0.676768\n",
       "active_user_True     -0.156608  0.089443      0.089443          -1.000000          1.000000      0.050156             -0.676768\n",
       "age_category         -0.191175  0.049015      0.049015          -0.050156          0.050156      1.000000             -0.041044\n",
       "days_active_category  0.304150 -0.061531     -0.061531           0.676768         -0.676768     -0.041044              1.000000"
      ]
     },
     "execution_count": 39,
     "metadata": {},
     "output_type": "execute_result"
    }
   ],
   "source": [
    "#Calculate correlations\n",
    "corr = train.corr()\n",
    "corr"
   ]
  },
  {
   "cell_type": "code",
   "execution_count": 40,
   "metadata": {
    "colab": {
     "base_uri": "https://localhost:8080/"
    },
    "executionInfo": {
     "elapsed": 1093,
     "status": "ok",
     "timestamp": 1604153234779,
     "user": {
      "displayName": "Eser İnan Arslan",
      "photoUrl": "https://lh3.googleusercontent.com/a-/AOh14Ggz536p806W0W9-wxWFfPdVV303PuNNPAhu9S1UjA=s64",
      "userId": "01966049699378036829"
     },
     "user_tz": -180
    },
    "id": "taj82bEk9_8V",
    "outputId": "d0c46370-c182-4d4f-ea79-2ac5f41a8bde"
   },
   "outputs": [
    {
     "data": {
      "text/plain": [
       "6"
      ]
     },
     "execution_count": 40,
     "metadata": {},
     "output_type": "execute_result"
    }
   ],
   "source": [
    "cr = corr.copy()\n",
    "top_corr_columns = []\n",
    "#Determine best correlate columns over 0.1\n",
    "top_corr_columns = cr.loc[:, 'calls'][:-1]\n",
    "best_accurate_columns = top_corr_columns[abs(top_corr_columns) > 0.1].sort_values(ascending=False)\n",
    "len(best_accurate_columns)\n"
   ]
  },
  {
   "cell_type": "code",
   "execution_count": 41,
   "metadata": {
    "colab": {
     "base_uri": "https://localhost:8080/"
    },
    "executionInfo": {
     "elapsed": 1088,
     "status": "ok",
     "timestamp": 1604153234780,
     "user": {
      "displayName": "Eser İnan Arslan",
      "photoUrl": "https://lh3.googleusercontent.com/a-/AOh14Ggz536p806W0W9-wxWFfPdVV303PuNNPAhu9S1UjA=s64",
      "userId": "01966049699378036829"
     },
     "user_tz": -180
    },
    "id": "GGKhh9oN-Ye9",
    "outputId": "c62a8687-482e-4dfd-eec1-a447fcda154a"
   },
   "outputs": [
    {
     "data": {
      "text/plain": [
       "calls                1.000000\n",
       "call_average         0.492399\n",
       "isgroup2             0.492399\n",
       "active_user_False    0.156608\n",
       "active_user_True    -0.156608\n",
       "age_category        -0.191175\n",
       "Name: calls, dtype: float64"
      ]
     },
     "execution_count": 41,
     "metadata": {},
     "output_type": "execute_result"
    }
   ],
   "source": [
    "best_accurate_columns"
   ]
  },
  {
   "cell_type": "code",
   "execution_count": 42,
   "metadata": {},
   "outputs": [
    {
     "name": "stdout",
     "output_type": "stream",
     "text": [
      "7.62 **************** 0.0 **************** 2.0\n",
      "14.620000000000001 **************** 0.0 **************** 6.0\n",
      "5.62 **************** 0.0 **************** 3.0\n",
      "6.62 **************** 0.0 **************** 2.0\n",
      "8.620000000000001 **************** 0.0 **************** 4.0\n",
      "5.62 **************** 0.0 **************** 3.0\n",
      "10.620000000000001 **************** 0.0 **************** 5.0\n",
      "6.62 **************** 0.0 **************** 3.0\n",
      "6.62 **************** 0.0 **************** 4.0\n",
      "7.62 **************** 0.0 **************** 4.0\n",
      "9.620000000000001 **************** 0.0 **************** 5.0\n",
      "6.62 **************** 0.0 **************** 3.0\n",
      "8.620000000000001 **************** 0.0 **************** 5.0\n",
      "6.62 **************** 0.0 **************** 3.0\n",
      "11.620000000000001 **************** 0.0 **************** 6.0\n",
      "9.620000000000001 **************** 0.0 **************** 5.0\n",
      "12.620000000000001 **************** 0.0 **************** 6.0\n",
      "4.62 **************** 0.0 **************** 2.0\n",
      "6.62 **************** 0.0 **************** 4.0\n",
      "7.62 **************** 0.0 **************** 4.0\n",
      "6.62 **************** 0.0 **************** 4.0\n",
      "11.620000000000001 **************** 0.0 **************** 6.0\n",
      "12.620000000000001 **************** 0.0 **************** 5.0\n",
      "5.62 **************** 0.0 **************** 2.0\n",
      "11.620000000000001 **************** 0.0 **************** 6.0\n",
      "8.620000000000001 **************** 0.0 **************** 5.0\n",
      "4.62 **************** 0.0 **************** 2.0\n",
      "12.620000000000001 **************** 0.0 **************** 6.0\n",
      "7.62 **************** 0.0 **************** 4.0\n",
      "11.620000000000001 **************** 0.0 **************** 5.0\n",
      "6.62 **************** 0.0 **************** 3.0\n",
      "10.620000000000001 **************** 0.0 **************** 6.0\n",
      "11.620000000000001 **************** 0.0 **************** 5.0\n",
      "7.62 **************** 0.0 **************** 4.0\n",
      "8.620000000000001 **************** 0.0 **************** 4.0\n",
      "8.620000000000001 **************** 0.0 **************** 5.0\n",
      "7.62 **************** 0.0 **************** 3.0\n",
      "10.620000000000001 **************** 0.0 **************** 5.0\n",
      "10.620000000000001 **************** 0.0 **************** 5.0\n",
      "9.620000000000001 **************** 0.0 **************** 5.0\n",
      "8.620000000000001 **************** 0.0 **************** 5.0\n",
      "8.620000000000001 **************** 0.0 **************** 4.0\n",
      "8.620000000000001 **************** 0.0 **************** 4.0\n",
      "8.620000000000001 **************** 0.0 **************** 6.0\n",
      "8.620000000000001 **************** 0.0 **************** 4.0\n",
      "6.62 **************** 0.0 **************** 3.0\n",
      "7.62 **************** 0.0 **************** 3.0\n",
      "7.62 **************** 0.0 **************** 3.0\n",
      "7.62 **************** 0.0 **************** 4.0\n",
      "9.620000000000001 **************** 0.0 **************** 5.0\n",
      "11.620000000000001 **************** 0.0 **************** 6.0\n",
      "10.620000000000001 **************** 0.0 **************** 5.0\n",
      "10.620000000000001 **************** 0.0 **************** 6.0\n",
      "7.62 **************** 0.0 **************** 3.0\n",
      "11.620000000000001 **************** 0.0 **************** 5.0\n",
      "7.62 **************** 0.0 **************** 3.0\n",
      "8.620000000000001 **************** 0.0 **************** 4.0\n",
      "10.620000000000001 **************** 0.0 **************** 5.0\n",
      "8.620000000000001 **************** 0.0 **************** 4.0\n",
      "8.620000000000001 **************** 0.0 **************** 4.0\n",
      "4.62 **************** 0.0 **************** 2.0\n",
      "11.620000000000001 **************** 0.0 **************** 6.0\n",
      "6.62 **************** 0.0 **************** 3.0\n",
      "11.620000000000001 **************** 0.0 **************** 5.0\n",
      "8.620000000000001 **************** 0.0 **************** 4.0\n",
      "10.620000000000001 **************** 0.0 **************** 6.0\n",
      "8.620000000000001 **************** 0.0 **************** 4.0\n",
      "9.620000000000001 **************** 0.0 **************** 6.0\n",
      "7.62 **************** 0.0 **************** 3.0\n",
      "13.620000000000001 **************** 0.0 **************** 6.0\n",
      "6.62 **************** 0.0 **************** 3.0\n",
      "11.620000000000001 **************** 0.0 **************** 6.0\n",
      "8.620000000000001 **************** 0.0 **************** 3.0\n",
      "3.62 **************** 0.0 **************** 2.0\n",
      "10.620000000000001 **************** 0.0 **************** 6.0\n",
      "8.620000000000001 **************** 0.0 **************** 4.0\n",
      "6.62 **************** 0.0 **************** 3.0\n",
      "5.62 **************** 0.0 **************** 2.0\n",
      "9.620000000000001 **************** 0.0 **************** 6.0\n",
      "12.620000000000001 **************** 0.0 **************** 6.0\n",
      "7.62 **************** 0.0 **************** 3.0\n",
      "9.620000000000001 **************** 0.0 **************** 4.0\n",
      "7.62 **************** 0.0 **************** 2.0\n",
      "8.620000000000001 **************** 0.0 **************** 4.0\n",
      "5.62 **************** 0.0 **************** 4.0\n",
      "11.620000000000001 **************** 0.0 **************** 5.0\n",
      "12.620000000000001 **************** 0.0 **************** 6.0\n",
      "8.620000000000001 **************** 0.0 **************** 6.0\n",
      "8.620000000000001 **************** 0.0 **************** 4.0\n",
      "13.620000000000001 **************** 0.0 **************** 6.0\n",
      "4.62 **************** 0.0 **************** 2.0\n",
      "5.62 **************** 0.0 **************** 2.0\n",
      "9.620000000000001 **************** 0.0 **************** 5.0\n",
      "8.620000000000001 **************** 0.0 **************** 4.0\n",
      "12.620000000000001 **************** 0.0 **************** 6.0\n",
      "6.62 **************** 0.0 **************** 3.0\n",
      "9.620000000000001 **************** 0.0 **************** 4.0\n",
      "10.620000000000001 **************** 0.0 **************** 5.0\n",
      "8.620000000000001 **************** 0.0 **************** 5.0\n",
      "6.62 **************** 0.0 **************** 3.0\n",
      "5.62 **************** 0.0 **************** 3.0\n",
      "9.620000000000001 **************** 0.0 **************** 5.0\n",
      "11.620000000000001 **************** 0.0 **************** 6.0\n",
      "5.62 **************** 0.0 **************** 2.0\n",
      "11.620000000000001 **************** 0.0 **************** 4.0\n",
      "9.620000000000001 **************** 0.0 **************** 6.0\n",
      "9.620000000000001 **************** 0.0 **************** 6.0\n",
      "9.620000000000001 **************** 0.0 **************** 6.0\n",
      "6.62 **************** 0.0 **************** 3.0\n",
      "11.620000000000001 **************** 0.0 **************** 6.0\n",
      "9.620000000000001 **************** 0.0 **************** 4.0\n",
      "10.620000000000001 **************** 0.0 **************** 4.0\n",
      "8.620000000000001 **************** 0.0 **************** 4.0\n",
      "8.620000000000001 **************** 0.0 **************** 4.0\n",
      "11.620000000000001 **************** 0.0 **************** 6.0\n",
      "9.620000000000001 **************** 0.0 **************** 4.0\n",
      "10.620000000000001 **************** 0.0 **************** 6.0\n",
      "4.62 **************** 0.0 **************** 2.0\n",
      "12.620000000000001 **************** 0.0 **************** 6.0\n",
      "10.620000000000001 **************** 0.0 **************** 6.0\n",
      "11.620000000000001 **************** 0.0 **************** 6.0\n",
      "7.62 **************** 0.0 **************** 5.0\n",
      "10.620000000000001 **************** 0.0 **************** 5.0\n",
      "6.62 **************** 0.0 **************** 3.0\n",
      "5.62 **************** 0.0 **************** 3.0\n",
      "7.62 **************** 0.0 **************** 3.0\n",
      "7.62 **************** 0.0 **************** 3.0\n",
      "5.62 **************** 0.0 **************** 2.0\n",
      "7.62 **************** 0.0 **************** 3.0\n",
      "7.62 **************** 0.0 **************** 4.0\n",
      "8.620000000000001 **************** 0.0 **************** 4.0\n",
      "11.620000000000001 **************** 0.0 **************** 6.0\n",
      "10.620000000000001 **************** 0.0 **************** 6.0\n",
      "5.62 **************** 0.0 **************** 2.0\n",
      "8.620000000000001 **************** 0.0 **************** 4.0\n",
      "8.620000000000001 **************** 0.0 **************** 4.0\n",
      "7.62 **************** 0.0 **************** 4.0\n",
      "8.620000000000001 **************** 0.0 **************** 5.0\n",
      "8.620000000000001 **************** 0.0 **************** 4.0\n",
      "6.62 **************** 0.0 **************** 2.0\n",
      "8.620000000000001 **************** 0.0 **************** 4.0\n",
      "7.62 **************** 0.0 **************** 4.0\n",
      "2.62 **************** 0.0 **************** 1.0\n",
      "8.620000000000001 **************** 0.0 **************** 4.0\n",
      "9.620000000000001 **************** 0.0 **************** 5.0\n",
      "5.62 **************** 0.0 **************** 3.0\n",
      "14.620000000000001 **************** 0.0 **************** 6.0\n",
      "6.62 **************** 0.0 **************** 3.0\n",
      "8.620000000000001 **************** 0.0 **************** 5.0\n",
      "8.620000000000001 **************** 0.0 **************** 3.0\n",
      "10.620000000000001 **************** 0.0 **************** 4.0\n",
      "6.62 **************** 0.0 **************** 4.0\n",
      "8.620000000000001 **************** 0.0 **************** 5.0\n",
      "8.620000000000001 **************** 0.0 **************** 4.0\n",
      "6.62 **************** 0.0 **************** 5.0\n",
      "7.62 **************** 0.0 **************** 4.0\n",
      "10.620000000000001 **************** 0.0 **************** 4.0\n",
      "11.620000000000001 **************** 0.0 **************** 6.0\n",
      "9.620000000000001 **************** 0.0 **************** 5.0\n",
      "4.62 **************** 0.0 **************** 2.0\n",
      "12.620000000000001 **************** 0.0 **************** 6.0\n",
      "10.620000000000001 **************** 0.0 **************** 5.0\n",
      "8.620000000000001 **************** 0.0 **************** 4.0\n",
      "9.620000000000001 **************** 0.0 **************** 6.0\n",
      "7.62 **************** 0.0 **************** 3.0\n",
      "7.62 **************** 0.0 **************** 4.0\n",
      "12.620000000000001 **************** 0.0 **************** 6.0\n",
      "4.62 **************** 0.0 **************** 2.0\n",
      "6.62 **************** 0.0 **************** 3.0\n",
      "7.62 **************** 0.0 **************** 4.0\n",
      "8.620000000000001 **************** 0.0 **************** 4.0\n",
      "9.620000000000001 **************** 0.0 **************** 6.0\n",
      "6.62 **************** 0.0 **************** 3.0\n",
      "6.62 **************** 0.0 **************** 3.0\n",
      "6.62 **************** 0.0 **************** 3.0\n",
      "5.62 **************** 0.0 **************** 4.0\n",
      "6.62 **************** 0.0 **************** 4.0\n",
      "11.620000000000001 **************** 0.0 **************** 4.0\n",
      "3.62 **************** 0.0 **************** 2.0\n",
      "5.62 **************** 0.0 **************** 2.0\n",
      "9.620000000000001 **************** 0.0 **************** 4.0\n",
      "9.620000000000001 **************** 0.0 **************** 6.0\n",
      "8.620000000000001 **************** 0.0 **************** 4.0\n",
      "10.620000000000001 **************** 0.0 **************** 5.0\n",
      "10.620000000000001 **************** 0.0 **************** 4.0\n",
      "8.620000000000001 **************** 0.0 **************** 4.0\n",
      "8.620000000000001 **************** 0.0 **************** 5.0\n",
      "8.620000000000001 **************** 0.0 **************** 4.0\n",
      "9.620000000000001 **************** 0.0 **************** 5.0\n",
      "7.62 **************** 0.0 **************** 3.0\n",
      "6.62 **************** 0.0 **************** 3.0\n",
      "6.62 **************** 0.0 **************** 2.0\n",
      "4.62 **************** 0.0 **************** 2.0\n",
      "9.620000000000001 **************** 0.0 **************** 4.0\n",
      "13.620000000000001 **************** 0.0 **************** 6.0\n",
      "8.620000000000001 **************** 0.0 **************** 4.0\n",
      "9.620000000000001 **************** 0.0 **************** 4.0\n",
      "13.620000000000001 **************** 0.0 **************** 6.0\n",
      "4.62 **************** 0.0 **************** 2.0\n",
      "10.620000000000001 **************** 0.0 **************** 6.0\n",
      "17.666666666666664 **************** 0.0 **************** 6.0\n",
      "9.666666666666666 **************** 0.0 **************** 2.6666666666666665\n",
      "14.666666666666666 **************** 0.0 **************** 5.0\n",
      "12.666666666666666 **************** 0.0 **************** 4.0\n",
      "20.666666666666664 **************** 0.0 **************** 8.0\n",
      "18.666666666666664 **************** 0.0 **************** 6.0\n",
      "10.666666666666666 **************** 0.0 **************** 3.0\n",
      "13.666666666666666 **************** 0.0 **************** 4.0\n",
      "17.666666666666664 **************** 0.0 **************** 6.0\n",
      "9.666666666666666 **************** 0.0 **************** 2.6666666666666665\n",
      "12.666666666666666 **************** 0.0 **************** 3.0\n",
      "10.666666666666666 **************** 0.0 **************** 5.0\n",
      "8.666666666666666 **************** 0.0 **************** 3.0\n",
      "14.666666666666666 **************** 0.0 **************** 4.0\n",
      "17.666666666666664 **************** 0.0 **************** 6.0\n",
      "19.666666666666664 **************** 0.0 **************** 7.0\n",
      "10.666666666666666 **************** 0.0 **************** 4.0\n",
      "12.666666666666666 **************** 0.0 **************** 3.0\n",
      "12.666666666666666 **************** 0.0 **************** 3.0\n",
      "13.666666666666666 **************** 0.0 **************** 5.0\n",
      "9.666666666666666 **************** 0.0 **************** 3.0\n",
      "12.666666666666666 **************** 0.0 **************** 4.0\n",
      "15.666666666666666 **************** 0.0 **************** 6.0\n",
      "10.666666666666666 **************** 0.0 **************** 3.0\n"
     ]
    }
   ],
   "source": [
    "#Control summary of train dataset rows summation\n",
    "for index in range(train.shape[0]):\n",
    "  print(train.loc[index].sum(),\"****************\",  train.loc[index].min(),\"****************\",  train.loc[index].max())\n"
   ]
  },
  {
   "cell_type": "code",
   "execution_count": 43,
   "metadata": {},
   "outputs": [],
   "source": [
    "#Define mape method\n",
    "def mean_absolute_percentage_error(y_true, y_pred): \n",
    "    return np.mean(np.abs((y_true - y_pred) / y_true)) * 100"
   ]
  },
  {
   "cell_type": "code",
   "execution_count": 44,
   "metadata": {},
   "outputs": [],
   "source": [
    "column_color = ['green', 'yellow', 'brown', 'orange', 'black', 'red', 'purple']#, 'pink', 'black', 'cyan', 'magenta']\n"
   ]
  },
  {
   "cell_type": "code",
   "execution_count": 45,
   "metadata": {},
   "outputs": [
    {
     "data": {
      "image/png": "[encoded data removed]",
      "text/plain": [
       "<Figure size 432x288 with 1 Axes>"
      ]
     },
     "metadata": {
      "needs_background": "light"
     },
     "output_type": "display_data"
    }
   ],
   "source": [
    "\n",
    "i=0\n",
    "for column in train.columns:\n",
    "  plt.scatter(train.loc[:,column], train.loc[:,\"calls\"], c=column_color[i])\n",
    "  i = i+1"
   ]
  },
  {
   "cell_type": "code",
   "execution_count": 46,
   "metadata": {},
   "outputs": [
    {
     "name": "stdout",
     "output_type": "stream",
     "text": [
      "<class 'pandas.core.frame.DataFrame'>\n",
      "RangeIndex: 224 entries, 0 to 223\n",
      "Data columns (total 7 columns):\n",
      "calls                   224 non-null int64\n",
      "isgroup2                224 non-null int64\n",
      "call_average            224 non-null float64\n",
      "active_user_False       224 non-null uint8\n",
      "active_user_True        224 non-null uint8\n",
      "age_category            224 non-null int8\n",
      "days_active_category    224 non-null int8\n",
      "dtypes: float64(1), int64(2), int8(2), uint8(2)\n",
      "memory usage: 6.2 KB\n"
     ]
    }
   ],
   "source": [
    "train.info()"
   ]
  },
  {
   "cell_type": "code",
   "execution_count": 47,
   "metadata": {},
   "outputs": [
    {
     "name": "stdout",
     "output_type": "stream",
     "text": [
      "count    224.000000\n",
      "mean       0.839286\n",
      "std        1.288470\n",
      "min        0.000000\n",
      "25%        0.000000\n",
      "50%        0.000000\n",
      "75%        1.000000\n",
      "max        8.000000\n",
      "Name: calls, dtype: float64\n"
     ]
    },
    {
     "data": {
      "image/png": "[encoded data removed]",
      "text/plain": [
       "<Figure size 648x576 with 1 Axes>"
      ]
     },
     "metadata": {
      "needs_background": "light"
     },
     "output_type": "display_data"
    }
   ],
   "source": [
    "print(train['calls'].describe())\n",
    "plt.figure(figsize=(9, 8))\n",
    "sns.distplot(train['calls'], color='r', bins=30, hist_kws={'alpha': 0.4});\n"
   ]
  },
  {
   "cell_type": "code",
   "execution_count": 48,
   "metadata": {},
   "outputs": [
    {
     "data": {
      "text/plain": [
       "0    126\n",
       "1     50\n",
       "2     24\n",
       "3     16\n",
       "4      4\n",
       "8      1\n",
       "7      1\n",
       "6      1\n",
       "5      1\n",
       "Name: calls, dtype: int64"
      ]
     },
     "execution_count": 48,
     "metadata": {},
     "output_type": "execute_result"
    }
   ],
   "source": [
    "train['calls'].value_counts(normalize=False)\n"
   ]
  },
  {
   "cell_type": "code",
   "execution_count": 49,
   "metadata": {},
   "outputs": [
    {
     "data": {
      "text/plain": [
       "calls                   8.000000\n",
       "isgroup2                1.000000\n",
       "call_average            2.666667\n",
       "active_user_False       1.000000\n",
       "active_user_True        1.000000\n",
       "age_category            6.000000\n",
       "days_active_category    6.000000\n",
       "dtype: float64"
      ]
     },
     "execution_count": 49,
     "metadata": {},
     "output_type": "execute_result"
    }
   ],
   "source": [
    "train.apply(np.max)\n"
   ]
  },
  {
   "cell_type": "code",
   "execution_count": 50,
   "metadata": {},
   "outputs": [
    {
     "data": {
      "text/plain": [
       "Index(['calls', 'isgroup2', 'call_average', 'active_user_False', 'active_user_True', 'age_category', 'days_active_category'], dtype='object')"
      ]
     },
     "execution_count": 50,
     "metadata": {},
     "output_type": "execute_result"
    }
   ],
   "source": [
    "train.columns"
   ]
  },
  {
   "cell_type": "raw",
   "metadata": {},
   "source": []
  },
  {
   "cell_type": "code",
   "execution_count": 51,
   "metadata": {},
   "outputs": [
    {
     "name": "stdout",
     "output_type": "stream",
     "text": [
      "Number of calls per age\n"
     ]
    },
    {
     "data": {
      "text/html": [
       "<div>\n",
       "<style scoped>\n",
       "    .dataframe tbody tr th:only-of-type {\n",
       "        vertical-align: middle;\n",
       "    }\n",
       "\n",
       "    .dataframe tbody tr th {\n",
       "        vertical-align: top;\n",
       "    }\n",
       "\n",
       "    .dataframe thead th {\n",
       "        text-align: right;\n",
       "    }\n",
       "</style>\n",
       "<table border=\"1\" class=\"dataframe\">\n",
       "  <thead>\n",
       "    <tr style=\"text-align: right;\">\n",
       "      <th></th>\n",
       "      <th>calls</th>\n",
       "    </tr>\n",
       "  </thead>\n",
       "  <tbody>\n",
       "    <tr>\n",
       "      <td>count</td>\n",
       "      <td>7.000000</td>\n",
       "    </tr>\n",
       "    <tr>\n",
       "      <td>mean</td>\n",
       "      <td>4.142857</td>\n",
       "    </tr>\n",
       "    <tr>\n",
       "      <td>std</td>\n",
       "      <td>2.115701</td>\n",
       "    </tr>\n",
       "    <tr>\n",
       "      <td>min</td>\n",
       "      <td>1.000000</td>\n",
       "    </tr>\n",
       "    <tr>\n",
       "      <td>25%</td>\n",
       "      <td>3.000000</td>\n",
       "    </tr>\n",
       "    <tr>\n",
       "      <td>50%</td>\n",
       "      <td>4.000000</td>\n",
       "    </tr>\n",
       "    <tr>\n",
       "      <td>75%</td>\n",
       "      <td>5.500000</td>\n",
       "    </tr>\n",
       "    <tr>\n",
       "      <td>max</td>\n",
       "      <td>7.000000</td>\n",
       "    </tr>\n",
       "  </tbody>\n",
       "</table>\n",
       "</div>"
      ],
      "text/plain": [
       "          calls\n",
       "count  7.000000\n",
       "mean   4.142857\n",
       "std    2.115701\n",
       "min    1.000000\n",
       "25%    3.000000\n",
       "50%    4.000000\n",
       "75%    5.500000\n",
       "max    7.000000"
      ]
     },
     "execution_count": 51,
     "metadata": {},
     "output_type": "execute_result"
    }
   ],
   "source": [
    "print(\"Number of calls per age\")\n",
    "\n",
    "# Number of calls per age\n",
    "reviews_per_age = train.groupby([\"age_category\"]).agg({\n",
    "    \"calls\": pd.Series.nunique\n",
    "})\n",
    "reviews_per_age.describe()"
   ]
  },
  {
   "cell_type": "code",
   "execution_count": 52,
   "metadata": {},
   "outputs": [
    {
     "name": "stdout",
     "output_type": "stream",
     "text": [
      "Number of calls per group2\n"
     ]
    },
    {
     "data": {
      "text/html": [
       "<div>\n",
       "<style scoped>\n",
       "    .dataframe tbody tr th:only-of-type {\n",
       "        vertical-align: middle;\n",
       "    }\n",
       "\n",
       "    .dataframe tbody tr th {\n",
       "        vertical-align: top;\n",
       "    }\n",
       "\n",
       "    .dataframe thead th {\n",
       "        text-align: right;\n",
       "    }\n",
       "</style>\n",
       "<table border=\"1\" class=\"dataframe\">\n",
       "  <thead>\n",
       "    <tr style=\"text-align: right;\">\n",
       "      <th></th>\n",
       "      <th>calls</th>\n",
       "    </tr>\n",
       "  </thead>\n",
       "  <tbody>\n",
       "    <tr>\n",
       "      <td>count</td>\n",
       "      <td>2.000000</td>\n",
       "    </tr>\n",
       "    <tr>\n",
       "      <td>mean</td>\n",
       "      <td>7.000000</td>\n",
       "    </tr>\n",
       "    <tr>\n",
       "      <td>std</td>\n",
       "      <td>2.828427</td>\n",
       "    </tr>\n",
       "    <tr>\n",
       "      <td>min</td>\n",
       "      <td>5.000000</td>\n",
       "    </tr>\n",
       "    <tr>\n",
       "      <td>25%</td>\n",
       "      <td>6.000000</td>\n",
       "    </tr>\n",
       "    <tr>\n",
       "      <td>50%</td>\n",
       "      <td>7.000000</td>\n",
       "    </tr>\n",
       "    <tr>\n",
       "      <td>75%</td>\n",
       "      <td>8.000000</td>\n",
       "    </tr>\n",
       "    <tr>\n",
       "      <td>max</td>\n",
       "      <td>9.000000</td>\n",
       "    </tr>\n",
       "  </tbody>\n",
       "</table>\n",
       "</div>"
      ],
      "text/plain": [
       "          calls\n",
       "count  2.000000\n",
       "mean   7.000000\n",
       "std    2.828427\n",
       "min    5.000000\n",
       "25%    6.000000\n",
       "50%    7.000000\n",
       "75%    8.000000\n",
       "max    9.000000"
      ]
     },
     "execution_count": 52,
     "metadata": {},
     "output_type": "execute_result"
    }
   ],
   "source": [
    "print(\"Number of calls per group2\")\n",
    "# Number of reviews per condition\n",
    "reviews_per_group2 = train.groupby([\"isgroup2\"]).agg({\n",
    "    \"calls\": pd.Series.nunique\n",
    "})\n",
    "\n",
    "reviews_per_group2.describe()"
   ]
  },
  {
   "cell_type": "code",
   "execution_count": 53,
   "metadata": {},
   "outputs": [
    {
     "data": {
      "image/png": "[encoded data removed]",
      "text/plain": [
       "<Figure size 864x432 with 1 Axes>"
      ]
     },
     "metadata": {
      "needs_background": "light"
     },
     "output_type": "display_data"
    }
   ],
   "source": [
    "# Top calls\n",
    "plot = train.calls.value_counts().nlargest(10).plot(kind='bar', title=\"Top call numbers\", figsize=(12,6))\n"
   ]
  },
  {
   "cell_type": "code",
   "execution_count": 54,
   "metadata": {},
   "outputs": [],
   "source": [
    "#Label encoder calculation\n",
    "#age score\n",
    "le = LabelEncoder()\n",
    "le.fit(train.age_category.drop_duplicates()) \n",
    "train.age_category = le.transform(train.age_category)\n",
    "# group2 or not\n",
    "le.fit(train.isgroup2.drop_duplicates()) \n",
    "train.isgroup2 = le.transform(train.isgroup2)"
   ]
  },
  {
   "cell_type": "code",
   "execution_count": 55,
   "metadata": {},
   "outputs": [
    {
     "data": {
      "text/plain": [
       "age_category           -0.191175\n",
       "active_user_True       -0.156608\n",
       "active_user_False       0.156608\n",
       "days_active_category    0.304150\n",
       "isgroup2                0.492399\n",
       "call_average            0.492399\n",
       "calls                   1.000000\n",
       "Name: calls, dtype: float64"
      ]
     },
     "execution_count": 55,
     "metadata": {},
     "output_type": "execute_result"
    }
   ],
   "source": [
    "train.corr()['calls'].sort_values()"
   ]
  },
  {
   "cell_type": "code",
   "execution_count": 56,
   "metadata": {},
   "outputs": [
    {
     "data": {
      "text/plain": [
       "<matplotlib.axes._subplots.AxesSubplot at 0x7ff0cf90ddd8>"
      ]
     },
     "execution_count": 56,
     "metadata": {},
     "output_type": "execute_result"
    },
    {
     "data": {
      "image/png": "[encoded data removed]",
      "text/plain": [
       "<Figure size 720x576 with 2 Axes>"
      ]
     },
     "metadata": {
      "needs_background": "light"
     },
     "output_type": "display_data"
    }
   ],
   "source": [
    "#heatmap deep corr graph\n",
    "f, ax = plt.subplots(figsize=(10, 8))\n",
    "corr = train.corr()\n",
    "sns.heatmap(corr, mask=np.zeros_like(corr, dtype=np.bool), cmap=sns.diverging_palette(240,10,as_cmap=True),\n",
    "            square=True, ax=ax)"
   ]
  },
  {
   "cell_type": "code",
   "execution_count": 57,
   "metadata": {},
   "outputs": [],
   "source": [
    "train_df = train.copy()"
   ]
  },
  {
   "cell_type": "code",
   "execution_count": 58,
   "metadata": {},
   "outputs": [],
   "source": [
    "y = train_df.calls"
   ]
  },
  {
   "cell_type": "code",
   "execution_count": 59,
   "metadata": {},
   "outputs": [
    {
     "data": {
      "text/html": [
       "<div>\n",
       "<style scoped>\n",
       "    .dataframe tbody tr th:only-of-type {\n",
       "        vertical-align: middle;\n",
       "    }\n",
       "\n",
       "    .dataframe tbody tr th {\n",
       "        vertical-align: top;\n",
       "    }\n",
       "\n",
       "    .dataframe thead th {\n",
       "        text-align: right;\n",
       "    }\n",
       "</style>\n",
       "<table border=\"1\" class=\"dataframe\">\n",
       "  <thead>\n",
       "    <tr style=\"text-align: right;\">\n",
       "      <th></th>\n",
       "      <th>isgroup2</th>\n",
       "      <th>call_average</th>\n",
       "      <th>active_user_False</th>\n",
       "      <th>active_user_True</th>\n",
       "      <th>age_category</th>\n",
       "      <th>days_active_category</th>\n",
       "    </tr>\n",
       "  </thead>\n",
       "  <tbody>\n",
       "    <tr>\n",
       "      <td>0</td>\n",
       "      <td>0</td>\n",
       "      <td>0.62</td>\n",
       "      <td>1</td>\n",
       "      <td>0</td>\n",
       "      <td>2</td>\n",
       "      <td>2</td>\n",
       "    </tr>\n",
       "    <tr>\n",
       "      <td>1</td>\n",
       "      <td>0</td>\n",
       "      <td>0.62</td>\n",
       "      <td>1</td>\n",
       "      <td>0</td>\n",
       "      <td>3</td>\n",
       "      <td>6</td>\n",
       "    </tr>\n",
       "    <tr>\n",
       "      <td>2</td>\n",
       "      <td>0</td>\n",
       "      <td>0.62</td>\n",
       "      <td>1</td>\n",
       "      <td>0</td>\n",
       "      <td>1</td>\n",
       "      <td>3</td>\n",
       "    </tr>\n",
       "    <tr>\n",
       "      <td>3</td>\n",
       "      <td>0</td>\n",
       "      <td>0.62</td>\n",
       "      <td>1</td>\n",
       "      <td>0</td>\n",
       "      <td>2</td>\n",
       "      <td>2</td>\n",
       "    </tr>\n",
       "    <tr>\n",
       "      <td>4</td>\n",
       "      <td>0</td>\n",
       "      <td>0.62</td>\n",
       "      <td>1</td>\n",
       "      <td>0</td>\n",
       "      <td>3</td>\n",
       "      <td>4</td>\n",
       "    </tr>\n",
       "  </tbody>\n",
       "</table>\n",
       "</div>"
      ],
      "text/plain": [
       "   isgroup2  call_average  active_user_False  active_user_True  age_category  days_active_category\n",
       "0         0          0.62                  1                 0             2                     2\n",
       "1         0          0.62                  1                 0             3                     6\n",
       "2         0          0.62                  1                 0             1                     3\n",
       "3         0          0.62                  1                 0             2                     2\n",
       "4         0          0.62                  1                 0             3                     4"
      ]
     },
     "execution_count": 59,
     "metadata": {},
     "output_type": "execute_result"
    }
   ],
   "source": [
    "X = train_df.copy()\n",
    "X = X.drop(columns='calls')\n",
    "X.head()"
   ]
  },
  {
   "cell_type": "code",
   "execution_count": 60,
   "metadata": {},
   "outputs": [
    {
     "data": {
      "text/plain": [
       "((224, 6), (224,))"
      ]
     },
     "execution_count": 60,
     "metadata": {},
     "output_type": "execute_result"
    }
   ],
   "source": [
    "X.shape, y.shape"
   ]
  },
  {
   "cell_type": "code",
   "execution_count": 61,
   "metadata": {},
   "outputs": [
    {
     "name": "stdout",
     "output_type": "stream",
     "text": [
      "(134, 6)\n",
      "(134,)\n"
     ]
    }
   ],
   "source": [
    "X_train, X_test, y_train, y_test = train_test_split(X, y, test_size=0.4)\n",
    "print(X_train.shape)\n",
    "print(y_train.shape)"
   ]
  },
  {
   "cell_type": "code",
   "execution_count": 62,
   "metadata": {},
   "outputs": [
    {
     "name": "stdout",
     "output_type": "stream",
     "text": [
      "(90, 6)\n",
      "(90,)\n"
     ]
    }
   ],
   "source": [
    "print(X_test.shape)\n",
    "print(y_test.shape)"
   ]
  },
  {
   "cell_type": "code",
   "execution_count": 63,
   "metadata": {},
   "outputs": [],
   "source": [
    "#GridSearch to determine best parameters\n",
    "param_grid = {\n",
    "    'n_estimators': [10, 50, 100, 250, 500, 750],\n",
    "    'max_features': ['auto', 'sqrt', 'log2'],\n",
    "    'gamma' : [0, 0.1, 0.3, 1], 'learning_rate' : [0.001, 0.01, 0.1], \n",
    "    'max_depth' : [2, 4, 6, 7, 12],\n",
    "    'nthread' : [-1], 'reg_alpha' : [1], 'reg_lambda' : [1], 'seed' : [10]}"
   ]
  },
  {
   "cell_type": "code",
   "execution_count": 64,
   "metadata": {},
   "outputs": [],
   "source": [
    "bst = xgb.XGBRegressor()\n",
    "xgb_grid = GridSearchCV(bst,\n",
    "                        param_grid,\n",
    "                        cv=5,\n",
    "                        n_jobs=-1,\n",
    "                        verbose=True,\n",
    "                        )"
   ]
  },
  {
   "cell_type": "code",
   "execution_count": 65,
   "metadata": {},
   "outputs": [
    {
     "name": "stdout",
     "output_type": "stream",
     "text": [
      "Fitting 5 folds for each of 1080 candidates, totalling 5400 fits\n"
     ]
    },
    {
     "name": "stderr",
     "output_type": "stream",
     "text": [
      "[Parallel(n_jobs=-1)]: Using backend LokyBackend with 16 concurrent workers.\n",
      "[Parallel(n_jobs=-1)]: Done  18 tasks      | elapsed:    3.0s\n",
      "[Parallel(n_jobs=-1)]: Done 336 tasks      | elapsed:    5.2s\n",
      "[Parallel(n_jobs=-1)]: Done 1296 tasks      | elapsed:   13.5s\n",
      "[Parallel(n_jobs=-1)]: Done 2346 tasks      | elapsed:   21.6s\n",
      "[Parallel(n_jobs=-1)]: Done 3696 tasks      | elapsed:   31.1s\n"
     ]
    },
    {
     "name": "stdout",
     "output_type": "stream",
     "text": [
      "[01:43:57] WARNING: /Users/travis/build/dmlc/xgboost/src/learner.cc:480: \n",
      "Parameters: { max_features } might not be used.\n",
      "\n",
      "  This may not be accurate due to some parameters are only used in language bindings but\n",
      "  passed down to XGBoost core.  Or some parameters are not used but slip through this\n",
      "  verification. Please open an issue if you find above cases.\n",
      "\n",
      "\n",
      "[0]\tvalidation_0-rmse:1.26959\n",
      "Will train until validation_0-rmse hasn't improved in 50 rounds.\n",
      "[1]\tvalidation_0-rmse:1.26522\n",
      "[2]\tvalidation_0-rmse:1.26091\n",
      "[3]\tvalidation_0-rmse:1.25667\n",
      "[4]\tvalidation_0-rmse:1.25248\n",
      "[5]\tvalidation_0-rmse:1.24835\n",
      "[6]\tvalidation_0-rmse:1.24428\n",
      "[7]\tvalidation_0-rmse:1.24026\n",
      "[8]\tvalidation_0-rmse:1.23629\n",
      "[9]\tvalidation_0-rmse:1.23237\n",
      "[10]\tvalidation_0-rmse:1.22851\n",
      "[11]\tvalidation_0-rmse:1.22470\n",
      "[12]\tvalidation_0-rmse:1.22094\n",
      "[13]\tvalidation_0-rmse:1.21724\n",
      "[14]\tvalidation_0-rmse:1.21357\n",
      "[15]\tvalidation_0-rmse:1.20996\n",
      "[16]\tvalidation_0-rmse:1.20639\n",
      "[17]\tvalidation_0-rmse:1.20287\n",
      "[18]\tvalidation_0-rmse:1.19940\n",
      "[19]\tvalidation_0-rmse:1.19597\n",
      "[20]\tvalidation_0-rmse:1.19259\n",
      "[21]\tvalidation_0-rmse:1.18926\n",
      "[22]\tvalidation_0-rmse:1.18596\n",
      "[23]\tvalidation_0-rmse:1.18272\n",
      "[24]\tvalidation_0-rmse:1.17952\n",
      "[25]\tvalidation_0-rmse:1.17636\n",
      "[26]\tvalidation_0-rmse:1.17324\n",
      "[27]\tvalidation_0-rmse:1.17016\n",
      "[28]\tvalidation_0-rmse:1.16713\n",
      "[29]\tvalidation_0-rmse:1.16413\n",
      "[30]\tvalidation_0-rmse:1.16118\n",
      "[31]\tvalidation_0-rmse:1.15827\n",
      "[32]\tvalidation_0-rmse:1.15539\n",
      "[33]\tvalidation_0-rmse:1.15256\n",
      "[34]\tvalidation_0-rmse:1.14976\n",
      "[35]\tvalidation_0-rmse:1.14700\n",
      "[36]\tvalidation_0-rmse:1.14425\n",
      "[37]\tvalidation_0-rmse:1.14154\n",
      "[38]\tvalidation_0-rmse:1.13889\n",
      "[39]\tvalidation_0-rmse:1.13624\n",
      "[40]\tvalidation_0-rmse:1.13364\n",
      "[41]\tvalidation_0-rmse:1.13108\n",
      "[42]\tvalidation_0-rmse:1.12858\n",
      "[43]\tvalidation_0-rmse:1.12607\n",
      "[44]\tvalidation_0-rmse:1.12363\n",
      "[45]\tvalidation_0-rmse:1.12116\n",
      "[46]\tvalidation_0-rmse:1.11874\n",
      "[47]\tvalidation_0-rmse:1.11638\n",
      "[48]\tvalidation_0-rmse:1.11401\n",
      "[49]\tvalidation_0-rmse:1.11171\n",
      "[50]\tvalidation_0-rmse:1.10939\n",
      "[51]\tvalidation_0-rmse:1.10715\n",
      "[52]\tvalidation_0-rmse:1.10488\n",
      "[53]\tvalidation_0-rmse:1.10269\n",
      "[54]\tvalidation_0-rmse:1.10048\n",
      "[55]\tvalidation_0-rmse:1.09829\n",
      "[56]\tvalidation_0-rmse:1.09617\n",
      "[57]\tvalidation_0-rmse:1.09403\n",
      "[58]\tvalidation_0-rmse:1.09197\n",
      "[59]\tvalidation_0-rmse:1.08988\n",
      "[60]\tvalidation_0-rmse:1.08787\n",
      "[61]\tvalidation_0-rmse:1.08582\n",
      "[62]\tvalidation_0-rmse:1.08385\n",
      "[63]\tvalidation_0-rmse:1.08186\n",
      "[64]\tvalidation_0-rmse:1.07994\n",
      "[65]\tvalidation_0-rmse:1.07799\n",
      "[66]\tvalidation_0-rmse:1.07607\n",
      "[67]\tvalidation_0-rmse:1.07421\n",
      "[68]\tvalidation_0-rmse:1.07233\n",
      "[69]\tvalidation_0-rmse:1.07052\n",
      "[70]\tvalidation_0-rmse:1.06869\n",
      "[71]\tvalidation_0-rmse:1.06691\n",
      "[72]\tvalidation_0-rmse:1.06512\n",
      "[73]\tvalidation_0-rmse:1.06339\n",
      "[74]\tvalidation_0-rmse:1.06163\n",
      "[75]\tvalidation_0-rmse:1.05995\n",
      "[76]\tvalidation_0-rmse:1.05823\n",
      "[77]\tvalidation_0-rmse:1.05658\n",
      "[78]\tvalidation_0-rmse:1.05491\n",
      "[79]\tvalidation_0-rmse:1.05326\n",
      "[80]\tvalidation_0-rmse:1.05167\n",
      "[81]\tvalidation_0-rmse:1.05005\n",
      "[82]\tvalidation_0-rmse:1.04849\n",
      "[83]\tvalidation_0-rmse:1.04691\n",
      "[84]\tvalidation_0-rmse:1.04539\n",
      "[85]\tvalidation_0-rmse:1.04385\n",
      "[86]\tvalidation_0-rmse:1.04236\n",
      "[87]\tvalidation_0-rmse:1.04085\n",
      "[88]\tvalidation_0-rmse:1.03940\n",
      "[89]\tvalidation_0-rmse:1.03793\n",
      "[90]\tvalidation_0-rmse:1.03648\n",
      "[91]\tvalidation_0-rmse:1.03507\n",
      "[92]\tvalidation_0-rmse:1.03365\n",
      "[93]\tvalidation_0-rmse:1.03228\n",
      "[94]\tvalidation_0-rmse:1.03089\n",
      "[95]\tvalidation_0-rmse:1.02955\n",
      "[96]\tvalidation_0-rmse:1.02819\n",
      "[97]\tvalidation_0-rmse:1.02688\n",
      "[98]\tvalidation_0-rmse:1.02555\n",
      "[99]\tvalidation_0-rmse:1.02428\n",
      "[100]\tvalidation_0-rmse:1.02298\n",
      "[101]\tvalidation_0-rmse:1.02173\n",
      "[102]\tvalidation_0-rmse:1.02046\n",
      "[103]\tvalidation_0-rmse:1.01921\n",
      "[104]\tvalidation_0-rmse:1.01795\n",
      "[105]\tvalidation_0-rmse:1.01675\n",
      "[106]\tvalidation_0-rmse:1.01551\n",
      "[107]\tvalidation_0-rmse:1.01434\n",
      "[108]\tvalidation_0-rmse:1.01313\n",
      "[109]\tvalidation_0-rmse:1.01160\n",
      "[110]\tvalidation_0-rmse:1.01046\n",
      "[111]\tvalidation_0-rmse:1.00895\n",
      "[112]\tvalidation_0-rmse:1.00746\n",
      "[113]\tvalidation_0-rmse:1.00635\n",
      "[114]\tvalidation_0-rmse:1.00489\n",
      "[115]\tvalidation_0-rmse:1.00380\n",
      "[116]\tvalidation_0-rmse:1.00236\n",
      "[117]\tvalidation_0-rmse:1.00129\n",
      "[118]\tvalidation_0-rmse:0.99987\n",
      "[119]\tvalidation_0-rmse:0.99882\n",
      "[120]\tvalidation_0-rmse:0.99743\n",
      "[121]\tvalidation_0-rmse:0.99640\n",
      "[122]\tvalidation_0-rmse:0.99504\n",
      "[123]\tvalidation_0-rmse:0.99369\n",
      "[124]\tvalidation_0-rmse:0.99269\n",
      "[125]\tvalidation_0-rmse:0.99136\n",
      "[126]\tvalidation_0-rmse:0.99035\n",
      "[127]\tvalidation_0-rmse:0.98905\n",
      "[128]\tvalidation_0-rmse:0.98808\n",
      "[129]\tvalidation_0-rmse:0.98680\n",
      "[130]\tvalidation_0-rmse:0.98584\n",
      "[131]\tvalidation_0-rmse:0.98459\n",
      "[132]\tvalidation_0-rmse:0.98365\n",
      "[133]\tvalidation_0-rmse:0.98242\n",
      "[134]\tvalidation_0-rmse:0.98147\n",
      "[135]\tvalidation_0-rmse:0.98026\n",
      "[136]\tvalidation_0-rmse:0.97936\n",
      "[137]\tvalidation_0-rmse:0.97817\n",
      "[138]\tvalidation_0-rmse:0.97728\n",
      "[139]\tvalidation_0-rmse:0.97611\n",
      "[140]\tvalidation_0-rmse:0.97496\n",
      "[141]\tvalidation_0-rmse:0.97409\n",
      "[142]\tvalidation_0-rmse:0.97295\n",
      "[143]\tvalidation_0-rmse:0.97207\n",
      "[144]\tvalidation_0-rmse:0.97096\n",
      "[145]\tvalidation_0-rmse:0.97012\n",
      "[146]\tvalidation_0-rmse:0.96903\n",
      "[147]\tvalidation_0-rmse:0.96820\n",
      "[148]\tvalidation_0-rmse:0.96713\n",
      "[149]\tvalidation_0-rmse:0.96632\n",
      "[150]\tvalidation_0-rmse:0.96527\n",
      "[151]\tvalidation_0-rmse:0.96444\n",
      "[152]\tvalidation_0-rmse:0.96341\n",
      "[153]\tvalidation_0-rmse:0.96262\n",
      "[154]\tvalidation_0-rmse:0.96160\n",
      "[155]\tvalidation_0-rmse:0.96059\n",
      "[156]\tvalidation_0-rmse:0.95983\n",
      "[157]\tvalidation_0-rmse:0.95884\n",
      "[158]\tvalidation_0-rmse:0.95807\n",
      "[159]\tvalidation_0-rmse:0.95710\n",
      "[160]\tvalidation_0-rmse:0.95636\n",
      "[161]\tvalidation_0-rmse:0.95541\n",
      "[162]\tvalidation_0-rmse:0.95468\n",
      "[163]\tvalidation_0-rmse:0.95374\n",
      "[164]\tvalidation_0-rmse:0.95300\n",
      "[165]\tvalidation_0-rmse:0.95208\n",
      "[166]\tvalidation_0-rmse:0.95137\n",
      "[167]\tvalidation_0-rmse:0.95047\n",
      "[168]\tvalidation_0-rmse:0.94977\n",
      "[169]\tvalidation_0-rmse:0.94888\n",
      "[170]\tvalidation_0-rmse:0.94800\n",
      "[171]\tvalidation_0-rmse:0.94732\n",
      "[172]\tvalidation_0-rmse:0.94646\n",
      "[173]\tvalidation_0-rmse:0.94579\n",
      "[174]\tvalidation_0-rmse:0.94494\n",
      "[175]\tvalidation_0-rmse:0.94427\n",
      "[176]\tvalidation_0-rmse:0.94344\n",
      "[177]\tvalidation_0-rmse:0.94278\n",
      "[178]\tvalidation_0-rmse:0.94197\n",
      "[179]\tvalidation_0-rmse:0.94133\n",
      "[180]\tvalidation_0-rmse:0.94053\n",
      "[181]\tvalidation_0-rmse:0.93988\n",
      "[182]\tvalidation_0-rmse:0.93909\n",
      "[183]\tvalidation_0-rmse:0.93847\n",
      "[184]\tvalidation_0-rmse:0.93770\n",
      "[185]\tvalidation_0-rmse:0.93693\n",
      "[186]\tvalidation_0-rmse:0.93632\n",
      "[187]\tvalidation_0-rmse:0.93557\n",
      "[188]\tvalidation_0-rmse:0.93498\n",
      "[189]\tvalidation_0-rmse:0.93424\n",
      "[190]\tvalidation_0-rmse:0.93365\n",
      "[191]\tvalidation_0-rmse:0.93292\n",
      "[192]\tvalidation_0-rmse:0.93235\n",
      "[193]\tvalidation_0-rmse:0.93164\n",
      "[194]\tvalidation_0-rmse:0.93106\n",
      "[195]\tvalidation_0-rmse:0.93036\n",
      "[196]\tvalidation_0-rmse:0.92979\n",
      "[197]\tvalidation_0-rmse:0.92911\n",
      "[198]\tvalidation_0-rmse:0.92856\n",
      "[199]\tvalidation_0-rmse:0.92788\n",
      "[200]\tvalidation_0-rmse:0.92722\n",
      "[201]\tvalidation_0-rmse:0.92668\n",
      "[202]\tvalidation_0-rmse:0.92602\n",
      "[203]\tvalidation_0-rmse:0.92548\n",
      "[204]\tvalidation_0-rmse:0.92484\n",
      "[205]\tvalidation_0-rmse:0.92431\n",
      "[206]\tvalidation_0-rmse:0.92368\n",
      "[207]\tvalidation_0-rmse:0.92317\n",
      "[208]\tvalidation_0-rmse:0.92255\n",
      "[209]\tvalidation_0-rmse:0.92202\n",
      "[210]\tvalidation_0-rmse:0.92141\n",
      "[211]\tvalidation_0-rmse:0.92092\n",
      "[212]\tvalidation_0-rmse:0.92032\n",
      "[213]\tvalidation_0-rmse:0.91983\n",
      "[214]\tvalidation_0-rmse:0.91924\n",
      "[215]\tvalidation_0-rmse:0.91865\n",
      "[216]\tvalidation_0-rmse:0.91818\n",
      "[217]\tvalidation_0-rmse:0.91755\n",
      "[218]\tvalidation_0-rmse:0.91706\n",
      "[219]\tvalidation_0-rmse:0.91660\n",
      "[220]\tvalidation_0-rmse:0.91598\n",
      "[221]\tvalidation_0-rmse:0.91553\n",
      "[222]\tvalidation_0-rmse:0.91492\n",
      "[223]\tvalidation_0-rmse:0.91446\n",
      "[224]\tvalidation_0-rmse:0.91391\n",
      "[225]\tvalidation_0-rmse:0.91347\n",
      "[226]\tvalidation_0-rmse:0.91288\n",
      "[227]\tvalidation_0-rmse:0.91244\n",
      "[228]\tvalidation_0-rmse:0.91192\n",
      "[229]\tvalidation_0-rmse:0.91148\n",
      "[230]\tvalidation_0-rmse:0.91091\n",
      "[231]\tvalidation_0-rmse:0.91049\n",
      "[232]\tvalidation_0-rmse:0.90993\n",
      "[233]\tvalidation_0-rmse:0.90951\n",
      "[234]\tvalidation_0-rmse:0.90909\n",
      "[235]\tvalidation_0-rmse:0.90859\n",
      "[236]\tvalidation_0-rmse:0.90818\n",
      "[237]\tvalidation_0-rmse:0.90769\n",
      "[238]\tvalidation_0-rmse:0.90715\n",
      "[239]\tvalidation_0-rmse:0.90676\n",
      "[240]\tvalidation_0-rmse:0.90624\n",
      "[241]\tvalidation_0-rmse:0.90583\n",
      "[242]\tvalidation_0-rmse:0.90544\n",
      "[243]\tvalidation_0-rmse:0.90493\n",
      "[244]\tvalidation_0-rmse:0.90454\n",
      "[245]\tvalidation_0-rmse:0.90416\n",
      "[246]\tvalidation_0-rmse:0.90366\n"
     ]
    },
    {
     "name": "stdout",
     "output_type": "stream",
     "text": [
      "[247]\tvalidation_0-rmse:0.90328\n",
      "[248]\tvalidation_0-rmse:0.90278\n",
      "[249]\tvalidation_0-rmse:0.90241\n",
      "[250]\tvalidation_0-rmse:0.90193\n",
      "[251]\tvalidation_0-rmse:0.90156\n",
      "[252]\tvalidation_0-rmse:0.90120\n",
      "[253]\tvalidation_0-rmse:0.90076\n",
      "[254]\tvalidation_0-rmse:0.90028\n",
      "[255]\tvalidation_0-rmse:0.89993\n",
      "[256]\tvalidation_0-rmse:0.89958\n"
     ]
    },
    {
     "name": "stderr",
     "output_type": "stream",
     "text": [
      "[Parallel(n_jobs=-1)]: Done 5400 out of 5400 | elapsed:   42.9s finished\n"
     ]
    },
    {
     "name": "stdout",
     "output_type": "stream",
     "text": [
      "[257]\tvalidation_0-rmse:0.89916\n",
      "[258]\tvalidation_0-rmse:0.89870\n",
      "[259]\tvalidation_0-rmse:0.89835\n",
      "[260]\tvalidation_0-rmse:0.89802\n",
      "[261]\tvalidation_0-rmse:0.89756\n",
      "[262]\tvalidation_0-rmse:0.89723\n",
      "[263]\tvalidation_0-rmse:0.89679\n",
      "[264]\tvalidation_0-rmse:0.89646\n",
      "[265]\tvalidation_0-rmse:0.89602\n",
      "[266]\tvalidation_0-rmse:0.89570\n",
      "[267]\tvalidation_0-rmse:0.89537\n",
      "[268]\tvalidation_0-rmse:0.89495\n",
      "[269]\tvalidation_0-rmse:0.89463\n",
      "[270]\tvalidation_0-rmse:0.89421\n",
      "[271]\tvalidation_0-rmse:0.89391\n",
      "[272]\tvalidation_0-rmse:0.89350\n",
      "[273]\tvalidation_0-rmse:0.89318\n",
      "[274]\tvalidation_0-rmse:0.89288\n",
      "[275]\tvalidation_0-rmse:0.89248\n",
      "[276]\tvalidation_0-rmse:0.89217\n",
      "[277]\tvalidation_0-rmse:0.89177\n",
      "[278]\tvalidation_0-rmse:0.89149\n",
      "[279]\tvalidation_0-rmse:0.89109\n",
      "[280]\tvalidation_0-rmse:0.89081\n",
      "[281]\tvalidation_0-rmse:0.89042\n",
      "[282]\tvalidation_0-rmse:0.89013\n",
      "[283]\tvalidation_0-rmse:0.88985\n",
      "[284]\tvalidation_0-rmse:0.88947\n",
      "[285]\tvalidation_0-rmse:0.88920\n",
      "[286]\tvalidation_0-rmse:0.88895\n",
      "[287]\tvalidation_0-rmse:0.88867\n",
      "[288]\tvalidation_0-rmse:0.88833\n",
      "[289]\tvalidation_0-rmse:0.88806\n",
      "[290]\tvalidation_0-rmse:0.88772\n",
      "[291]\tvalidation_0-rmse:0.88748\n",
      "[292]\tvalidation_0-rmse:0.88721\n",
      "[293]\tvalidation_0-rmse:0.88688\n",
      "[294]\tvalidation_0-rmse:0.88662\n",
      "[295]\tvalidation_0-rmse:0.88638\n",
      "[296]\tvalidation_0-rmse:0.88605\n",
      "[297]\tvalidation_0-rmse:0.88582\n",
      "[298]\tvalidation_0-rmse:0.88550\n",
      "[299]\tvalidation_0-rmse:0.88525\n",
      "[300]\tvalidation_0-rmse:0.88493\n",
      "[301]\tvalidation_0-rmse:0.88470\n",
      "[302]\tvalidation_0-rmse:0.88438\n",
      "[303]\tvalidation_0-rmse:0.88415\n",
      "[304]\tvalidation_0-rmse:0.88382\n",
      "[305]\tvalidation_0-rmse:0.88358\n",
      "[306]\tvalidation_0-rmse:0.88326\n",
      "[307]\tvalidation_0-rmse:0.88305\n",
      "[308]\tvalidation_0-rmse:0.88281\n",
      "[309]\tvalidation_0-rmse:0.88256\n",
      "[310]\tvalidation_0-rmse:0.88234\n",
      "[311]\tvalidation_0-rmse:0.88205\n",
      "[312]\tvalidation_0-rmse:0.88184\n",
      "[313]\tvalidation_0-rmse:0.88156\n",
      "[314]\tvalidation_0-rmse:0.88132\n",
      "[315]\tvalidation_0-rmse:0.88111\n",
      "[316]\tvalidation_0-rmse:0.88082\n",
      "[317]\tvalidation_0-rmse:0.88062\n",
      "[318]\tvalidation_0-rmse:0.88034\n",
      "[319]\tvalidation_0-rmse:0.88013\n",
      "[320]\tvalidation_0-rmse:0.87986\n",
      "[321]\tvalidation_0-rmse:0.87955\n",
      "[322]\tvalidation_0-rmse:0.87934\n",
      "[323]\tvalidation_0-rmse:0.87915\n",
      "[324]\tvalidation_0-rmse:0.87894\n",
      "[325]\tvalidation_0-rmse:0.87876\n",
      "[326]\tvalidation_0-rmse:0.87850\n",
      "[327]\tvalidation_0-rmse:0.87828\n",
      "[328]\tvalidation_0-rmse:0.87809\n",
      "[329]\tvalidation_0-rmse:0.87783\n",
      "[330]\tvalidation_0-rmse:0.87764\n",
      "[331]\tvalidation_0-rmse:0.87739\n",
      "[332]\tvalidation_0-rmse:0.87720\n",
      "[333]\tvalidation_0-rmse:0.87695\n",
      "[334]\tvalidation_0-rmse:0.87667\n",
      "[335]\tvalidation_0-rmse:0.87647\n",
      "[336]\tvalidation_0-rmse:0.87630\n",
      "[337]\tvalidation_0-rmse:0.87611\n",
      "[338]\tvalidation_0-rmse:0.87593\n",
      "[339]\tvalidation_0-rmse:0.87569\n",
      "[340]\tvalidation_0-rmse:0.87553\n",
      "[341]\tvalidation_0-rmse:0.87530\n",
      "[342]\tvalidation_0-rmse:0.87510\n",
      "[343]\tvalidation_0-rmse:0.87493\n",
      "[344]\tvalidation_0-rmse:0.87470\n",
      "[345]\tvalidation_0-rmse:0.87453\n",
      "[346]\tvalidation_0-rmse:0.87430\n",
      "[347]\tvalidation_0-rmse:0.87404\n",
      "[348]\tvalidation_0-rmse:0.87386\n",
      "[349]\tvalidation_0-rmse:0.87369\n",
      "[350]\tvalidation_0-rmse:0.87344\n",
      "[351]\tvalidation_0-rmse:0.87329\n",
      "[352]\tvalidation_0-rmse:0.87311\n",
      "[353]\tvalidation_0-rmse:0.87294\n",
      "[354]\tvalidation_0-rmse:0.87280\n",
      "[355]\tvalidation_0-rmse:0.87258\n",
      "[356]\tvalidation_0-rmse:0.87240\n",
      "[357]\tvalidation_0-rmse:0.87225\n",
      "[358]\tvalidation_0-rmse:0.87204\n",
      "[359]\tvalidation_0-rmse:0.87188\n",
      "[360]\tvalidation_0-rmse:0.87168\n",
      "[361]\tvalidation_0-rmse:0.87154\n",
      "[362]\tvalidation_0-rmse:0.87137\n",
      "[363]\tvalidation_0-rmse:0.87122\n",
      "[364]\tvalidation_0-rmse:0.87102\n",
      "[365]\tvalidation_0-rmse:0.87087\n",
      "[366]\tvalidation_0-rmse:0.87063\n",
      "[367]\tvalidation_0-rmse:0.87050\n",
      "[368]\tvalidation_0-rmse:0.87034\n",
      "[369]\tvalidation_0-rmse:0.87015\n",
      "[370]\tvalidation_0-rmse:0.87000\n",
      "[371]\tvalidation_0-rmse:0.86987\n",
      "[372]\tvalidation_0-rmse:0.86969\n",
      "[373]\tvalidation_0-rmse:0.86953\n",
      "[374]\tvalidation_0-rmse:0.86938\n",
      "[375]\tvalidation_0-rmse:0.86925\n",
      "[376]\tvalidation_0-rmse:0.86906\n",
      "[377]\tvalidation_0-rmse:0.86884\n",
      "[378]\tvalidation_0-rmse:0.86870\n",
      "[379]\tvalidation_0-rmse:0.86849\n",
      "[380]\tvalidation_0-rmse:0.86837\n",
      "[381]\tvalidation_0-rmse:0.86822\n",
      "[382]\tvalidation_0-rmse:0.86809\n",
      "[383]\tvalidation_0-rmse:0.86788\n",
      "[384]\tvalidation_0-rmse:0.86776\n",
      "[385]\tvalidation_0-rmse:0.86762\n",
      "[386]\tvalidation_0-rmse:0.86747\n",
      "[387]\tvalidation_0-rmse:0.86734\n",
      "[388]\tvalidation_0-rmse:0.86717\n",
      "[389]\tvalidation_0-rmse:0.86706\n",
      "[390]\tvalidation_0-rmse:0.86692\n",
      "[391]\tvalidation_0-rmse:0.86679\n",
      "[392]\tvalidation_0-rmse:0.86663\n",
      "[393]\tvalidation_0-rmse:0.86651\n",
      "[394]\tvalidation_0-rmse:0.86631\n",
      "[395]\tvalidation_0-rmse:0.86619\n",
      "[396]\tvalidation_0-rmse:0.86599\n",
      "[397]\tvalidation_0-rmse:0.86589\n",
      "[398]\tvalidation_0-rmse:0.86576\n",
      "[399]\tvalidation_0-rmse:0.86564\n",
      "[400]\tvalidation_0-rmse:0.86548\n",
      "[401]\tvalidation_0-rmse:0.86538\n",
      "[402]\tvalidation_0-rmse:0.86525\n",
      "[403]\tvalidation_0-rmse:0.86513\n",
      "[404]\tvalidation_0-rmse:0.86497\n",
      "[405]\tvalidation_0-rmse:0.86488\n",
      "[406]\tvalidation_0-rmse:0.86472\n",
      "[407]\tvalidation_0-rmse:0.86460\n",
      "[408]\tvalidation_0-rmse:0.86449\n",
      "[409]\tvalidation_0-rmse:0.86430\n",
      "[410]\tvalidation_0-rmse:0.86420\n",
      "[411]\tvalidation_0-rmse:0.86402\n",
      "[412]\tvalidation_0-rmse:0.86390\n",
      "[413]\tvalidation_0-rmse:0.86379\n",
      "[414]\tvalidation_0-rmse:0.86370\n",
      "[415]\tvalidation_0-rmse:0.86352\n",
      "[416]\tvalidation_0-rmse:0.86340\n",
      "[417]\tvalidation_0-rmse:0.86330\n",
      "[418]\tvalidation_0-rmse:0.86321\n",
      "[419]\tvalidation_0-rmse:0.86307\n",
      "[420]\tvalidation_0-rmse:0.86296\n",
      "[421]\tvalidation_0-rmse:0.86285\n",
      "[422]\tvalidation_0-rmse:0.86268\n",
      "[423]\tvalidation_0-rmse:0.86260\n",
      "[424]\tvalidation_0-rmse:0.86248\n",
      "[425]\tvalidation_0-rmse:0.86239\n",
      "[426]\tvalidation_0-rmse:0.86225\n",
      "[427]\tvalidation_0-rmse:0.86217\n",
      "[428]\tvalidation_0-rmse:0.86206\n",
      "[429]\tvalidation_0-rmse:0.86195\n",
      "[430]\tvalidation_0-rmse:0.86186\n",
      "[431]\tvalidation_0-rmse:0.86172\n",
      "[432]\tvalidation_0-rmse:0.86165\n",
      "[433]\tvalidation_0-rmse:0.86151\n",
      "[434]\tvalidation_0-rmse:0.86141\n",
      "[435]\tvalidation_0-rmse:0.86129\n",
      "[436]\tvalidation_0-rmse:0.86121\n",
      "[437]\tvalidation_0-rmse:0.86111\n",
      "[438]\tvalidation_0-rmse:0.86102\n",
      "[439]\tvalidation_0-rmse:0.86089\n",
      "[440]\tvalidation_0-rmse:0.86081\n",
      "[441]\tvalidation_0-rmse:0.86071\n",
      "[442]\tvalidation_0-rmse:0.86059\n",
      "[443]\tvalidation_0-rmse:0.86050\n",
      "[444]\tvalidation_0-rmse:0.86041\n",
      "[445]\tvalidation_0-rmse:0.86029\n",
      "[446]\tvalidation_0-rmse:0.86018\n",
      "[447]\tvalidation_0-rmse:0.86009\n",
      "[448]\tvalidation_0-rmse:0.85998\n",
      "[449]\tvalidation_0-rmse:0.85991\n",
      "[450]\tvalidation_0-rmse:0.85981\n",
      "[451]\tvalidation_0-rmse:0.85972\n",
      "[452]\tvalidation_0-rmse:0.85963\n",
      "[453]\tvalidation_0-rmse:0.85957\n",
      "[454]\tvalidation_0-rmse:0.85945\n",
      "[455]\tvalidation_0-rmse:0.85936\n",
      "[456]\tvalidation_0-rmse:0.85928\n",
      "[457]\tvalidation_0-rmse:0.85914\n",
      "[458]\tvalidation_0-rmse:0.85903\n",
      "[459]\tvalidation_0-rmse:0.85895\n",
      "[460]\tvalidation_0-rmse:0.85881\n",
      "[461]\tvalidation_0-rmse:0.85870\n",
      "[462]\tvalidation_0-rmse:0.85864\n",
      "[463]\tvalidation_0-rmse:0.85855\n",
      "[464]\tvalidation_0-rmse:0.85847\n",
      "[465]\tvalidation_0-rmse:0.85839\n",
      "[466]\tvalidation_0-rmse:0.85832\n",
      "[467]\tvalidation_0-rmse:0.85821\n",
      "[468]\tvalidation_0-rmse:0.85808\n",
      "[469]\tvalidation_0-rmse:0.85801\n",
      "[470]\tvalidation_0-rmse:0.85793\n",
      "[471]\tvalidation_0-rmse:0.85783\n",
      "[472]\tvalidation_0-rmse:0.85776\n",
      "[473]\tvalidation_0-rmse:0.85766\n",
      "[474]\tvalidation_0-rmse:0.85760\n",
      "[475]\tvalidation_0-rmse:0.85752\n",
      "[476]\tvalidation_0-rmse:0.85745\n",
      "[477]\tvalidation_0-rmse:0.85735\n",
      "[478]\tvalidation_0-rmse:0.85728\n",
      "[479]\tvalidation_0-rmse:0.85719\n",
      "[480]\tvalidation_0-rmse:0.85706\n",
      "[481]\tvalidation_0-rmse:0.85699\n",
      "[482]\tvalidation_0-rmse:0.85690\n",
      "[483]\tvalidation_0-rmse:0.85678\n",
      "[484]\tvalidation_0-rmse:0.85670\n",
      "[485]\tvalidation_0-rmse:0.85664\n",
      "[486]\tvalidation_0-rmse:0.85655\n",
      "[487]\tvalidation_0-rmse:0.85649\n",
      "[488]\tvalidation_0-rmse:0.85642\n",
      "[489]\tvalidation_0-rmse:0.85633\n",
      "[490]\tvalidation_0-rmse:0.85626\n",
      "[491]\tvalidation_0-rmse:0.85615\n",
      "[492]\tvalidation_0-rmse:0.85608\n",
      "[493]\tvalidation_0-rmse:0.85600\n",
      "[494]\tvalidation_0-rmse:0.85588\n",
      "[495]\tvalidation_0-rmse:0.85583\n",
      "[496]\tvalidation_0-rmse:0.85576\n",
      "[497]\tvalidation_0-rmse:0.85569\n",
      "[498]\tvalidation_0-rmse:0.85562\n",
      "[499]\tvalidation_0-rmse:0.85554\n",
      "[500]\tvalidation_0-rmse:0.85549\n",
      "[501]\tvalidation_0-rmse:0.85542\n",
      "[502]\tvalidation_0-rmse:0.85536\n",
      "[503]\tvalidation_0-rmse:0.85528\n",
      "[504]\tvalidation_0-rmse:0.85520\n",
      "[505]\tvalidation_0-rmse:0.85514\n",
      "[506]\tvalidation_0-rmse:0.85503\n",
      "[507]\tvalidation_0-rmse:0.85499\n",
      "[508]\tvalidation_0-rmse:0.85492\n",
      "[509]\tvalidation_0-rmse:0.85484\n",
      "[510]\tvalidation_0-rmse:0.85478\n",
      "[511]\tvalidation_0-rmse:0.85473\n",
      "[512]\tvalidation_0-rmse:0.85465\n",
      "[513]\tvalidation_0-rmse:0.85460\n"
     ]
    },
    {
     "name": "stdout",
     "output_type": "stream",
     "text": [
      "[514]\tvalidation_0-rmse:0.85454\n",
      "[515]\tvalidation_0-rmse:0.85449\n",
      "[516]\tvalidation_0-rmse:0.85441\n",
      "[517]\tvalidation_0-rmse:0.85431\n",
      "[518]\tvalidation_0-rmse:0.85425\n",
      "[519]\tvalidation_0-rmse:0.85418\n",
      "[520]\tvalidation_0-rmse:0.85408\n",
      "[521]\tvalidation_0-rmse:0.85404\n",
      "[522]\tvalidation_0-rmse:0.85398\n",
      "[523]\tvalidation_0-rmse:0.85391\n",
      "[524]\tvalidation_0-rmse:0.85386\n",
      "[525]\tvalidation_0-rmse:0.85379\n",
      "[526]\tvalidation_0-rmse:0.85374\n",
      "[527]\tvalidation_0-rmse:0.85364\n",
      "[528]\tvalidation_0-rmse:0.85360\n",
      "[529]\tvalidation_0-rmse:0.85353\n",
      "[530]\tvalidation_0-rmse:0.85348\n",
      "[531]\tvalidation_0-rmse:0.85343\n",
      "[532]\tvalidation_0-rmse:0.85336\n",
      "[533]\tvalidation_0-rmse:0.85332\n",
      "[534]\tvalidation_0-rmse:0.85326\n",
      "[535]\tvalidation_0-rmse:0.85319\n",
      "[536]\tvalidation_0-rmse:0.85315\n",
      "[537]\tvalidation_0-rmse:0.85305\n",
      "[538]\tvalidation_0-rmse:0.85299\n",
      "[539]\tvalidation_0-rmse:0.85294\n",
      "[540]\tvalidation_0-rmse:0.85285\n",
      "[541]\tvalidation_0-rmse:0.85281\n",
      "[542]\tvalidation_0-rmse:0.85276\n",
      "[543]\tvalidation_0-rmse:0.85269\n",
      "[544]\tvalidation_0-rmse:0.85266\n",
      "[545]\tvalidation_0-rmse:0.85260\n",
      "[546]\tvalidation_0-rmse:0.85255\n",
      "[547]\tvalidation_0-rmse:0.85249\n",
      "[548]\tvalidation_0-rmse:0.85241\n",
      "[549]\tvalidation_0-rmse:0.85236\n",
      "[550]\tvalidation_0-rmse:0.85230\n",
      "[551]\tvalidation_0-rmse:0.85226\n",
      "[552]\tvalidation_0-rmse:0.85222\n",
      "[553]\tvalidation_0-rmse:0.85218\n",
      "[554]\tvalidation_0-rmse:0.85212\n",
      "[555]\tvalidation_0-rmse:0.85204\n",
      "[556]\tvalidation_0-rmse:0.85198\n",
      "[557]\tvalidation_0-rmse:0.85194\n",
      "[558]\tvalidation_0-rmse:0.85191\n",
      "[559]\tvalidation_0-rmse:0.85187\n",
      "[560]\tvalidation_0-rmse:0.85181\n",
      "[561]\tvalidation_0-rmse:0.85176\n",
      "[562]\tvalidation_0-rmse:0.85172\n",
      "[563]\tvalidation_0-rmse:0.85168\n",
      "[564]\tvalidation_0-rmse:0.85164\n",
      "[565]\tvalidation_0-rmse:0.85159\n",
      "[566]\tvalidation_0-rmse:0.85155\n",
      "[567]\tvalidation_0-rmse:0.85149\n",
      "[568]\tvalidation_0-rmse:0.85142\n",
      "[569]\tvalidation_0-rmse:0.85136\n",
      "[570]\tvalidation_0-rmse:0.85133\n",
      "[571]\tvalidation_0-rmse:0.85129\n",
      "[572]\tvalidation_0-rmse:0.85125\n",
      "[573]\tvalidation_0-rmse:0.85120\n",
      "[574]\tvalidation_0-rmse:0.85115\n",
      "[575]\tvalidation_0-rmse:0.85111\n",
      "[576]\tvalidation_0-rmse:0.85108\n",
      "[577]\tvalidation_0-rmse:0.85104\n",
      "[578]\tvalidation_0-rmse:0.85099\n",
      "[579]\tvalidation_0-rmse:0.85092\n",
      "[580]\tvalidation_0-rmse:0.85087\n",
      "[581]\tvalidation_0-rmse:0.85083\n",
      "[582]\tvalidation_0-rmse:0.85079\n",
      "[583]\tvalidation_0-rmse:0.85075\n",
      "[584]\tvalidation_0-rmse:0.85070\n",
      "[585]\tvalidation_0-rmse:0.85067\n",
      "[586]\tvalidation_0-rmse:0.85063\n",
      "[587]\tvalidation_0-rmse:0.85059\n",
      "[588]\tvalidation_0-rmse:0.85055\n",
      "[589]\tvalidation_0-rmse:0.85052\n",
      "[590]\tvalidation_0-rmse:0.85049\n",
      "[591]\tvalidation_0-rmse:0.85044\n",
      "[592]\tvalidation_0-rmse:0.85039\n",
      "[593]\tvalidation_0-rmse:0.85036\n",
      "[594]\tvalidation_0-rmse:0.85029\n",
      "[595]\tvalidation_0-rmse:0.85025\n",
      "[596]\tvalidation_0-rmse:0.85021\n",
      "[597]\tvalidation_0-rmse:0.85017\n",
      "[598]\tvalidation_0-rmse:0.85014\n",
      "[599]\tvalidation_0-rmse:0.85010\n",
      "[600]\tvalidation_0-rmse:0.85006\n",
      "[601]\tvalidation_0-rmse:0.85003\n",
      "[602]\tvalidation_0-rmse:0.84999\n",
      "[603]\tvalidation_0-rmse:0.84999\n",
      "[604]\tvalidation_0-rmse:0.84999\n",
      "[605]\tvalidation_0-rmse:0.84999\n",
      "[606]\tvalidation_0-rmse:0.84999\n",
      "[607]\tvalidation_0-rmse:0.84999\n",
      "[608]\tvalidation_0-rmse:0.84999\n",
      "[609]\tvalidation_0-rmse:0.84999\n",
      "[610]\tvalidation_0-rmse:0.84999\n",
      "[611]\tvalidation_0-rmse:0.84999\n",
      "[612]\tvalidation_0-rmse:0.84999\n",
      "[613]\tvalidation_0-rmse:0.84999\n",
      "[614]\tvalidation_0-rmse:0.84999\n",
      "[615]\tvalidation_0-rmse:0.84999\n",
      "[616]\tvalidation_0-rmse:0.84999\n",
      "[617]\tvalidation_0-rmse:0.84999\n",
      "[618]\tvalidation_0-rmse:0.84999\n",
      "[619]\tvalidation_0-rmse:0.84999\n",
      "[620]\tvalidation_0-rmse:0.84999\n",
      "[621]\tvalidation_0-rmse:0.84999\n",
      "[622]\tvalidation_0-rmse:0.84999\n",
      "[623]\tvalidation_0-rmse:0.84998\n",
      "[624]\tvalidation_0-rmse:0.84999\n",
      "[625]\tvalidation_0-rmse:0.84999\n",
      "[626]\tvalidation_0-rmse:0.84998\n",
      "[627]\tvalidation_0-rmse:0.84998\n",
      "[628]\tvalidation_0-rmse:0.84998\n",
      "[629]\tvalidation_0-rmse:0.84998\n",
      "[630]\tvalidation_0-rmse:0.84998\n",
      "[631]\tvalidation_0-rmse:0.84998\n",
      "[632]\tvalidation_0-rmse:0.84998\n",
      "[633]\tvalidation_0-rmse:0.84998\n",
      "[634]\tvalidation_0-rmse:0.84998\n",
      "[635]\tvalidation_0-rmse:0.84998\n",
      "[636]\tvalidation_0-rmse:0.84998\n",
      "[637]\tvalidation_0-rmse:0.84998\n",
      "[638]\tvalidation_0-rmse:0.84998\n",
      "[639]\tvalidation_0-rmse:0.84998\n",
      "[640]\tvalidation_0-rmse:0.84998\n",
      "[641]\tvalidation_0-rmse:0.84998\n",
      "[642]\tvalidation_0-rmse:0.84998\n",
      "[643]\tvalidation_0-rmse:0.84998\n",
      "[644]\tvalidation_0-rmse:0.84998\n",
      "[645]\tvalidation_0-rmse:0.84998\n",
      "[646]\tvalidation_0-rmse:0.84998\n",
      "[647]\tvalidation_0-rmse:0.84998\n",
      "[648]\tvalidation_0-rmse:0.84998\n",
      "[649]\tvalidation_0-rmse:0.84998\n",
      "[650]\tvalidation_0-rmse:0.84998\n",
      "[651]\tvalidation_0-rmse:0.84998\n",
      "[652]\tvalidation_0-rmse:0.84998\n",
      "[653]\tvalidation_0-rmse:0.84998\n",
      "[654]\tvalidation_0-rmse:0.84998\n",
      "[655]\tvalidation_0-rmse:0.84998\n",
      "[656]\tvalidation_0-rmse:0.84998\n",
      "[657]\tvalidation_0-rmse:0.84998\n",
      "[658]\tvalidation_0-rmse:0.84998\n",
      "[659]\tvalidation_0-rmse:0.84998\n",
      "[660]\tvalidation_0-rmse:0.84998\n",
      "[661]\tvalidation_0-rmse:0.84998\n",
      "[662]\tvalidation_0-rmse:0.84998\n",
      "[663]\tvalidation_0-rmse:0.84998\n",
      "[664]\tvalidation_0-rmse:0.84998\n",
      "[665]\tvalidation_0-rmse:0.84998\n",
      "[666]\tvalidation_0-rmse:0.84998\n",
      "[667]\tvalidation_0-rmse:0.84998\n",
      "[668]\tvalidation_0-rmse:0.84998\n",
      "[669]\tvalidation_0-rmse:0.84998\n",
      "[670]\tvalidation_0-rmse:0.84998\n",
      "[671]\tvalidation_0-rmse:0.84998\n",
      "[672]\tvalidation_0-rmse:0.84998\n",
      "[673]\tvalidation_0-rmse:0.84998\n",
      "[674]\tvalidation_0-rmse:0.84998\n",
      "[675]\tvalidation_0-rmse:0.84998\n",
      "[676]\tvalidation_0-rmse:0.84998\n",
      "[677]\tvalidation_0-rmse:0.84998\n",
      "[678]\tvalidation_0-rmse:0.84998\n",
      "[679]\tvalidation_0-rmse:0.84998\n",
      "[680]\tvalidation_0-rmse:0.84998\n",
      "[681]\tvalidation_0-rmse:0.84998\n",
      "[682]\tvalidation_0-rmse:0.84998\n",
      "[683]\tvalidation_0-rmse:0.84998\n",
      "[684]\tvalidation_0-rmse:0.84998\n",
      "[685]\tvalidation_0-rmse:0.84998\n",
      "[686]\tvalidation_0-rmse:0.84998\n",
      "[687]\tvalidation_0-rmse:0.84998\n",
      "[688]\tvalidation_0-rmse:0.84998\n",
      "[689]\tvalidation_0-rmse:0.84998\n",
      "[690]\tvalidation_0-rmse:0.84998\n",
      "[691]\tvalidation_0-rmse:0.84998\n",
      "[692]\tvalidation_0-rmse:0.84998\n",
      "[693]\tvalidation_0-rmse:0.84998\n",
      "[694]\tvalidation_0-rmse:0.84998\n",
      "[695]\tvalidation_0-rmse:0.84998\n",
      "[696]\tvalidation_0-rmse:0.84998\n",
      "[697]\tvalidation_0-rmse:0.84998\n",
      "[698]\tvalidation_0-rmse:0.84998\n",
      "[699]\tvalidation_0-rmse:0.84998\n",
      "[700]\tvalidation_0-rmse:0.84998\n",
      "[701]\tvalidation_0-rmse:0.84998\n",
      "[702]\tvalidation_0-rmse:0.84998\n",
      "[703]\tvalidation_0-rmse:0.84998\n",
      "[704]\tvalidation_0-rmse:0.84998\n",
      "[705]\tvalidation_0-rmse:0.84998\n",
      "[706]\tvalidation_0-rmse:0.84998\n",
      "[707]\tvalidation_0-rmse:0.84998\n",
      "[708]\tvalidation_0-rmse:0.84998\n",
      "[709]\tvalidation_0-rmse:0.84998\n",
      "[710]\tvalidation_0-rmse:0.84998\n",
      "[711]\tvalidation_0-rmse:0.84998\n",
      "[712]\tvalidation_0-rmse:0.84998\n",
      "[713]\tvalidation_0-rmse:0.84998\n",
      "[714]\tvalidation_0-rmse:0.84998\n",
      "[715]\tvalidation_0-rmse:0.84998\n",
      "[716]\tvalidation_0-rmse:0.84998\n",
      "[717]\tvalidation_0-rmse:0.84998\n",
      "[718]\tvalidation_0-rmse:0.84998\n",
      "[719]\tvalidation_0-rmse:0.84998\n",
      "[720]\tvalidation_0-rmse:0.84998\n",
      "[721]\tvalidation_0-rmse:0.84998\n",
      "[722]\tvalidation_0-rmse:0.84998\n",
      "[723]\tvalidation_0-rmse:0.84998\n",
      "[724]\tvalidation_0-rmse:0.84998\n",
      "[725]\tvalidation_0-rmse:0.84998\n",
      "[726]\tvalidation_0-rmse:0.84998\n",
      "[727]\tvalidation_0-rmse:0.84998\n",
      "[728]\tvalidation_0-rmse:0.84998\n",
      "[729]\tvalidation_0-rmse:0.84998\n",
      "[730]\tvalidation_0-rmse:0.84998\n",
      "[731]\tvalidation_0-rmse:0.84998\n",
      "[732]\tvalidation_0-rmse:0.84998\n",
      "[733]\tvalidation_0-rmse:0.84998\n",
      "[734]\tvalidation_0-rmse:0.84998\n",
      "[735]\tvalidation_0-rmse:0.84998\n",
      "[736]\tvalidation_0-rmse:0.84998\n",
      "[737]\tvalidation_0-rmse:0.84998\n",
      "[738]\tvalidation_0-rmse:0.84998\n",
      "[739]\tvalidation_0-rmse:0.84998\n",
      "[740]\tvalidation_0-rmse:0.84998\n",
      "[741]\tvalidation_0-rmse:0.84998\n",
      "[742]\tvalidation_0-rmse:0.84998\n",
      "[743]\tvalidation_0-rmse:0.84998\n",
      "[744]\tvalidation_0-rmse:0.84998\n",
      "[745]\tvalidation_0-rmse:0.84998\n",
      "[746]\tvalidation_0-rmse:0.84998\n",
      "[747]\tvalidation_0-rmse:0.84998\n",
      "[748]\tvalidation_0-rmse:0.84998\n",
      "[749]\tvalidation_0-rmse:0.84998\n"
     ]
    },
    {
     "data": {
      "text/plain": [
       "GridSearchCV(cv=5,\n",
       "             estimator=XGBRegressor(base_score=None, booster=None,\n",
       "                                    colsample_bylevel=None,\n",
       "                                    colsample_bynode=None,\n",
       "                                    colsample_bytree=None, gamma=None,\n",
       "                                    gpu_id=None, importance_type='gain',\n",
       "                                    interaction_constraints=None,\n",
       "                                    learning_rate=None, max_delta_step=None,\n",
       "                                    max_depth=None, min_child_weight=None,\n",
       "                                    missing=nan, monotone_constraints=None,\n",
       "                                    n_estimators=100, n_jobs=...\n",
       "                                    reg_alpha=None, reg_lambda=None,\n",
       "                                    scale_pos_weight=None, subsample=None,\n",
       "                                    tree_method=None, validate_parameters=None,\n",
       "                                    verbosity=None),\n",
       "             n_jobs=-1,\n",
       "             param_grid={'gamma': [0, 0.1, 0.3, 1],\n",
       "                         'learning_rate': [0.001, 0.01, 0.1],\n",
       "                         'max_depth': [2, 4, 6, 7, 12],\n",
       "                         'max_features': ['auto', 'sqrt', 'log2'],\n",
       "                         'n_estimators': [10, 50, 100, 250, 500, 750],\n",
       "                         'nthread': [-1], 'reg_alpha': [1], 'reg_lambda': [1],\n",
       "                         'seed': [10]},\n",
       "             verbose=True)"
      ]
     },
     "execution_count": 65,
     "metadata": {},
     "output_type": "execute_result"
    }
   ],
   "source": [
    "xgb_grid.fit(X_train, y_train, eval_set=[(X_train, y_train)], early_stopping_rounds=50)"
   ]
  },
  {
   "cell_type": "code",
   "execution_count": 66,
   "metadata": {},
   "outputs": [
    {
     "data": {
      "text/plain": [
       "XGBRegressor(base_score=0.5, booster='gbtree', colsample_bylevel=1,\n",
       "             colsample_bynode=1, colsample_bytree=1, gamma=0.1, gpu_id=-1,\n",
       "             importance_type='gain', interaction_constraints='',\n",
       "             learning_rate=0.01, max_delta_step=0, max_depth=2,\n",
       "             max_features='auto', min_child_weight=1, missing=nan,\n",
       "             monotone_constraints='()', n_estimators=750, n_jobs=-1, nthread=-1,\n",
       "             num_parallel_tree=1, random_state=10, reg_alpha=1, reg_lambda=1,\n",
       "             scale_pos_weight=1, seed=10, subsample=1, tree_method='exact',\n",
       "             validate_parameters=1, verbosity=None)"
      ]
     },
     "execution_count": 66,
     "metadata": {},
     "output_type": "execute_result"
    }
   ],
   "source": [
    "xgb_grid.best_estimator_"
   ]
  },
  {
   "cell_type": "code",
   "execution_count": 67,
   "metadata": {},
   "outputs": [],
   "source": [
    "#Set XGBRegressor parameters from gridsearchCV\n",
    "final_xg_reg = xgb.XGBRegressor(base_score=0.5, booster='gbtree', colsample_bylevel=1,\n",
    "             colsample_bynode=1, colsample_bytree=1, gamma=1, gpu_id=-1,\n",
    "             importance_type='gain', interaction_constraints='',\n",
    "             learning_rate=0.01, max_delta_step=0, max_depth=2,\n",
    "             max_features='auto', min_child_weight=1, missing=None,\n",
    "             monotone_constraints='()', n_estimators=750, n_jobs=-1, nthread=-1,\n",
    "             num_parallel_tree=1, random_state=10, reg_alpha=1, reg_lambda=1,\n",
    "             scale_pos_weight=1, seed=10, subsample=1, tree_method='exact',\n",
    "             validate_parameters=1, verbosity=None)"
   ]
  },
  {
   "cell_type": "code",
   "execution_count": 68,
   "metadata": {},
   "outputs": [
    {
     "name": "stdout",
     "output_type": "stream",
     "text": [
      "[01:43:58] WARNING: /Users/travis/build/dmlc/xgboost/src/learner.cc:480: \n",
      "Parameters: { max_features } might not be used.\n",
      "\n",
      "  This may not be accurate due to some parameters are only used in language bindings but\n",
      "  passed down to XGBoost core.  Or some parameters are not used but slip through this\n",
      "  verification. Please open an issue if you find above cases.\n",
      "\n",
      "\n"
     ]
    }
   ],
   "source": [
    "#Prediction Step\n",
    "final_model =final_xg_reg.fit(X_train,y_train)\n",
    "predictions = final_model.predict(X_test)"
   ]
  },
  {
   "cell_type": "code",
   "execution_count": 82,
   "metadata": {},
   "outputs": [],
   "source": [
    "final_model.save(\"model.hdf5\")\n",
    "final_model.save_model('model.model')"
   ]
  },
  {
   "cell_type": "code",
   "execution_count": null,
   "metadata": {},
   "outputs": [],
   "source": []
  },
  {
   "cell_type": "code",
   "execution_count": 83,
   "metadata": {},
   "outputs": [
    {
     "ename": "NameError",
     "evalue": "name 'load_model' is not defined",
     "output_type": "error",
     "traceback": [
      "\u001b[0;31m---------------------------------------------------------------------------\u001b[0m",
      "\u001b[0;31mNameError\u001b[0m                                 Traceback (most recent call last)",
      "\u001b[0;32m<ipython-input-83-90390f72b2c4>\u001b[0m in \u001b[0;36m<module>\u001b[0;34m\u001b[0m\n\u001b[0;32m----> 1\u001b[0;31m \u001b[0mesp\u001b[0m \u001b[0;34m=\u001b[0m \u001b[0mload_model\u001b[0m\u001b[0;34m(\u001b[0m\u001b[0;34m\"model.model\"\u001b[0m\u001b[0;34m)\u001b[0m\u001b[0;34m\u001b[0m\u001b[0m\n\u001b[0m",
      "\u001b[0;31mNameError\u001b[0m: name 'load_model' is not defined"
     ]
    }
   ],
   "source": [
    "esp = load_model(\"model.model\")\n"
   ]
  },
  {
   "cell_type": "code",
   "execution_count": 87,
   "metadata": {},
   "outputs": [],
   "source": [
    "y_test_final = y_test.replace(0, 0.1)"
   ]
  },
  {
   "cell_type": "code",
   "execution_count": 95,
   "metadata": {},
   "outputs": [],
   "source": [
    "mae = mean_absolute_error(y_test_final, predictions)\n",
    "mape= mean_absolute_percentage_error(y_test_final, predictions)/len(y_test_final)"
   ]
  },
  {
   "cell_type": "code",
   "execution_count": 96,
   "metadata": {},
   "outputs": [
    {
     "data": {
      "text/plain": [
       "(0.7053869736856885, 3.5811428219728225)"
      ]
     },
     "execution_count": 96,
     "metadata": {},
     "output_type": "execute_result"
    }
   ],
   "source": [
    "mae, mape"
   ]
  },
  {
   "cell_type": "code",
   "execution_count": 97,
   "metadata": {},
   "outputs": [],
   "source": [
    "predictions2 = predictions.round()"
   ]
  },
  {
   "cell_type": "code",
   "execution_count": 98,
   "metadata": {},
   "outputs": [
    {
     "data": {
      "text/plain": [
       "90"
      ]
     },
     "execution_count": 98,
     "metadata": {},
     "output_type": "execute_result"
    }
   ],
   "source": [
    "len(predictions2)"
   ]
  },
  {
   "cell_type": "code",
   "execution_count": 99,
   "metadata": {
    "scrolled": true
   },
   "outputs": [
    {
     "data": {
      "text/plain": [
       "90"
      ]
     },
     "execution_count": 99,
     "metadata": {},
     "output_type": "execute_result"
    }
   ],
   "source": [
    "len(y_test_final)"
   ]
  },
  {
   "cell_type": "code",
   "execution_count": null,
   "metadata": {},
   "outputs": [],
   "source": [
    "df2 = pd.DataFrame(np.array([[1, 2, 3], [4, 5, 6], [7, 8, 9]]),\n",
    "                   columns=['a', 'b', 'c'])"
   ]
  },
  {
   "cell_type": "code",
   "execution_count": null,
   "metadata": {},
   "outputs": [],
   "source": []
  },
  {
   "cell_type": "code",
   "execution_count": null,
   "metadata": {},
   "outputs": [],
   "source": []
  },
  {
   "cell_type": "code",
   "execution_count": null,
   "metadata": {},
   "outputs": [],
   "source": []
  },
  {
   "cell_type": "code",
   "execution_count": null,
   "metadata": {},
   "outputs": [],
   "source": []
  },
  {
   "cell_type": "code",
   "execution_count": null,
   "metadata": {},
   "outputs": [],
   "source": []
  },
  {
   "cell_type": "code",
   "execution_count": null,
   "metadata": {
    "id": "j4omKs-FiKz_"
   },
   "outputs": [],
   "source": []
  }
 ],
 "metadata": {
  "colab": {
   "authorship_tag": "ABX9TyOmPHYUM1kI5n9d3sdqxE5a",
   "collapsed_sections": [],
   "name": "callers_v2.ipynb",
   "provenance": []
  },
  "kernelspec": {
   "display_name": "Python 3",
   "language": "python",
   "name": "python3"
  },
  "language_info": {
   "codemirror_mode": {
    "name": "ipython",
    "version": 3
   },
   "file_extension": ".py",
   "mimetype": "text/x-python",
   "name": "python",
   "nbconvert_exporter": "python",
   "pygments_lexer": "ipython3",
   "version": "3.6.6"
  }
 },
 "nbformat": 4,
 "nbformat_minor": 1
}
